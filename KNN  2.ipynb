{
 "cells": [
  {
   "cell_type": "markdown",
   "id": "770adf46",
   "metadata": {},
   "source": [
    "# Q) Glass: > Prepare a model for glass classification using KNN"
   ]
  },
  {
   "cell_type": "code",
   "execution_count": 1,
   "id": "3ad423a4",
   "metadata": {},
   "outputs": [],
   "source": [
    "import pandas as pd\n",
    "import seaborn as sns\n",
    "import matplotlib.pyplot as plt\n",
    "import numpy as np\n",
    "%matplotlib inline\n",
    "import warnings\n",
    "warnings.filterwarnings(\"ignore\")"
   ]
  },
  {
   "cell_type": "markdown",
   "id": "39b6a4ad",
   "metadata": {},
   "source": [
    "# Get Data"
   ]
  },
  {
   "cell_type": "code",
   "execution_count": 2,
   "id": "943255f9",
   "metadata": {},
   "outputs": [
    {
     "data": {
      "text/html": [
       "<div>\n",
       "<style scoped>\n",
       "    .dataframe tbody tr th:only-of-type {\n",
       "        vertical-align: middle;\n",
       "    }\n",
       "\n",
       "    .dataframe tbody tr th {\n",
       "        vertical-align: top;\n",
       "    }\n",
       "\n",
       "    .dataframe thead th {\n",
       "        text-align: right;\n",
       "    }\n",
       "</style>\n",
       "<table border=\"1\" class=\"dataframe\">\n",
       "  <thead>\n",
       "    <tr style=\"text-align: right;\">\n",
       "      <th></th>\n",
       "      <th>RI</th>\n",
       "      <th>Na</th>\n",
       "      <th>Mg</th>\n",
       "      <th>Al</th>\n",
       "      <th>Si</th>\n",
       "      <th>K</th>\n",
       "      <th>Ca</th>\n",
       "      <th>Ba</th>\n",
       "      <th>Fe</th>\n",
       "      <th>Type</th>\n",
       "    </tr>\n",
       "  </thead>\n",
       "  <tbody>\n",
       "    <tr>\n",
       "      <th>0</th>\n",
       "      <td>1.52101</td>\n",
       "      <td>13.64</td>\n",
       "      <td>4.49</td>\n",
       "      <td>1.10</td>\n",
       "      <td>71.78</td>\n",
       "      <td>0.06</td>\n",
       "      <td>8.75</td>\n",
       "      <td>0.0</td>\n",
       "      <td>0.0</td>\n",
       "      <td>1</td>\n",
       "    </tr>\n",
       "    <tr>\n",
       "      <th>1</th>\n",
       "      <td>1.51761</td>\n",
       "      <td>13.89</td>\n",
       "      <td>3.60</td>\n",
       "      <td>1.36</td>\n",
       "      <td>72.73</td>\n",
       "      <td>0.48</td>\n",
       "      <td>7.83</td>\n",
       "      <td>0.0</td>\n",
       "      <td>0.0</td>\n",
       "      <td>1</td>\n",
       "    </tr>\n",
       "    <tr>\n",
       "      <th>2</th>\n",
       "      <td>1.51618</td>\n",
       "      <td>13.53</td>\n",
       "      <td>3.55</td>\n",
       "      <td>1.54</td>\n",
       "      <td>72.99</td>\n",
       "      <td>0.39</td>\n",
       "      <td>7.78</td>\n",
       "      <td>0.0</td>\n",
       "      <td>0.0</td>\n",
       "      <td>1</td>\n",
       "    </tr>\n",
       "    <tr>\n",
       "      <th>3</th>\n",
       "      <td>1.51766</td>\n",
       "      <td>13.21</td>\n",
       "      <td>3.69</td>\n",
       "      <td>1.29</td>\n",
       "      <td>72.61</td>\n",
       "      <td>0.57</td>\n",
       "      <td>8.22</td>\n",
       "      <td>0.0</td>\n",
       "      <td>0.0</td>\n",
       "      <td>1</td>\n",
       "    </tr>\n",
       "    <tr>\n",
       "      <th>4</th>\n",
       "      <td>1.51742</td>\n",
       "      <td>13.27</td>\n",
       "      <td>3.62</td>\n",
       "      <td>1.24</td>\n",
       "      <td>73.08</td>\n",
       "      <td>0.55</td>\n",
       "      <td>8.07</td>\n",
       "      <td>0.0</td>\n",
       "      <td>0.0</td>\n",
       "      <td>1</td>\n",
       "    </tr>\n",
       "  </tbody>\n",
       "</table>\n",
       "</div>"
      ],
      "text/plain": [
       "        RI     Na    Mg    Al     Si     K    Ca   Ba   Fe  Type\n",
       "0  1.52101  13.64  4.49  1.10  71.78  0.06  8.75  0.0  0.0     1\n",
       "1  1.51761  13.89  3.60  1.36  72.73  0.48  7.83  0.0  0.0     1\n",
       "2  1.51618  13.53  3.55  1.54  72.99  0.39  7.78  0.0  0.0     1\n",
       "3  1.51766  13.21  3.69  1.29  72.61  0.57  8.22  0.0  0.0     1\n",
       "4  1.51742  13.27  3.62  1.24  73.08  0.55  8.07  0.0  0.0     1"
      ]
     },
     "execution_count": 2,
     "metadata": {},
     "output_type": "execute_result"
    }
   ],
   "source": [
    "gf=pd.read_csv('C:\\\\Users\\\\DELL\\\\OneDrive\\\\Desktop\\\\DATA SCIENCE\\\\Datasets\\\\glass.csv')\n",
    "gf.head()"
   ]
  },
  {
   "cell_type": "markdown",
   "id": "de2078df",
   "metadata": {},
   "source": [
    "# Standardization of variables \n",
    "Because the KNN classifier predicts the class of a given test observation by identifying the observations that are nearest to it, the scale of the variables matters.Variables having a large scale will have  much larger effect on the distance between the observations, and hence on the KNN classifier than variables that are on a small scale."
   ]
  },
  {
   "cell_type": "code",
   "execution_count": 3,
   "id": "b8105785",
   "metadata": {},
   "outputs": [],
   "source": [
    "from sklearn.preprocessing import StandardScaler"
   ]
  },
  {
   "cell_type": "code",
   "execution_count": 4,
   "id": "90175923",
   "metadata": {},
   "outputs": [],
   "source": [
    "scaler = StandardScaler()"
   ]
  },
  {
   "cell_type": "code",
   "execution_count": 5,
   "id": "88bc7875",
   "metadata": {},
   "outputs": [
    {
     "data": {
      "text/plain": [
       "StandardScaler()"
      ]
     },
     "execution_count": 5,
     "metadata": {},
     "output_type": "execute_result"
    }
   ],
   "source": [
    "scaler.fit(gf.drop('Type',axis=1))"
   ]
  },
  {
   "cell_type": "code",
   "execution_count": 6,
   "id": "c35b4b16",
   "metadata": {},
   "outputs": [],
   "source": [
    "scaled_features = scaler.transform(gf.drop('Type',axis=1))"
   ]
  },
  {
   "cell_type": "code",
   "execution_count": 7,
   "id": "10a6ab66",
   "metadata": {},
   "outputs": [
    {
     "data": {
      "text/html": [
       "<div>\n",
       "<style scoped>\n",
       "    .dataframe tbody tr th:only-of-type {\n",
       "        vertical-align: middle;\n",
       "    }\n",
       "\n",
       "    .dataframe tbody tr th {\n",
       "        vertical-align: top;\n",
       "    }\n",
       "\n",
       "    .dataframe thead th {\n",
       "        text-align: right;\n",
       "    }\n",
       "</style>\n",
       "<table border=\"1\" class=\"dataframe\">\n",
       "  <thead>\n",
       "    <tr style=\"text-align: right;\">\n",
       "      <th></th>\n",
       "      <th>RI</th>\n",
       "      <th>Na</th>\n",
       "      <th>Mg</th>\n",
       "      <th>Al</th>\n",
       "      <th>Si</th>\n",
       "      <th>K</th>\n",
       "      <th>Ca</th>\n",
       "      <th>Ba</th>\n",
       "      <th>Fe</th>\n",
       "    </tr>\n",
       "  </thead>\n",
       "  <tbody>\n",
       "    <tr>\n",
       "      <th>0</th>\n",
       "      <td>0.872868</td>\n",
       "      <td>0.284953</td>\n",
       "      <td>1.254639</td>\n",
       "      <td>-0.692442</td>\n",
       "      <td>-1.127082</td>\n",
       "      <td>-0.671705</td>\n",
       "      <td>-0.145766</td>\n",
       "      <td>-0.352877</td>\n",
       "      <td>-0.586451</td>\n",
       "    </tr>\n",
       "    <tr>\n",
       "      <th>1</th>\n",
       "      <td>-0.249333</td>\n",
       "      <td>0.591817</td>\n",
       "      <td>0.636168</td>\n",
       "      <td>-0.170460</td>\n",
       "      <td>0.102319</td>\n",
       "      <td>-0.026213</td>\n",
       "      <td>-0.793734</td>\n",
       "      <td>-0.352877</td>\n",
       "      <td>-0.586451</td>\n",
       "    </tr>\n",
       "    <tr>\n",
       "      <th>2</th>\n",
       "      <td>-0.721318</td>\n",
       "      <td>0.149933</td>\n",
       "      <td>0.601422</td>\n",
       "      <td>0.190912</td>\n",
       "      <td>0.438787</td>\n",
       "      <td>-0.164533</td>\n",
       "      <td>-0.828949</td>\n",
       "      <td>-0.352877</td>\n",
       "      <td>-0.586451</td>\n",
       "    </tr>\n",
       "    <tr>\n",
       "      <th>3</th>\n",
       "      <td>-0.232831</td>\n",
       "      <td>-0.242853</td>\n",
       "      <td>0.698710</td>\n",
       "      <td>-0.310994</td>\n",
       "      <td>-0.052974</td>\n",
       "      <td>0.112107</td>\n",
       "      <td>-0.519052</td>\n",
       "      <td>-0.352877</td>\n",
       "      <td>-0.586451</td>\n",
       "    </tr>\n",
       "    <tr>\n",
       "      <th>4</th>\n",
       "      <td>-0.312045</td>\n",
       "      <td>-0.169205</td>\n",
       "      <td>0.650066</td>\n",
       "      <td>-0.411375</td>\n",
       "      <td>0.555256</td>\n",
       "      <td>0.081369</td>\n",
       "      <td>-0.624699</td>\n",
       "      <td>-0.352877</td>\n",
       "      <td>-0.586451</td>\n",
       "    </tr>\n",
       "  </tbody>\n",
       "</table>\n",
       "</div>"
      ],
      "text/plain": [
       "         RI        Na        Mg        Al        Si         K        Ca  \\\n",
       "0  0.872868  0.284953  1.254639 -0.692442 -1.127082 -0.671705 -0.145766   \n",
       "1 -0.249333  0.591817  0.636168 -0.170460  0.102319 -0.026213 -0.793734   \n",
       "2 -0.721318  0.149933  0.601422  0.190912  0.438787 -0.164533 -0.828949   \n",
       "3 -0.232831 -0.242853  0.698710 -0.310994 -0.052974  0.112107 -0.519052   \n",
       "4 -0.312045 -0.169205  0.650066 -0.411375  0.555256  0.081369 -0.624699   \n",
       "\n",
       "         Ba        Fe  \n",
       "0 -0.352877 -0.586451  \n",
       "1 -0.352877 -0.586451  \n",
       "2 -0.352877 -0.586451  \n",
       "3 -0.352877 -0.586451  \n",
       "4 -0.352877 -0.586451  "
      ]
     },
     "execution_count": 7,
     "metadata": {},
     "output_type": "execute_result"
    }
   ],
   "source": [
    "gf_feat = pd.DataFrame(scaled_features,columns=gf.columns[:-1])\n",
    "gf_feat.head()"
   ]
  },
  {
   "cell_type": "code",
   "execution_count": 8,
   "id": "64af2ae5",
   "metadata": {},
   "outputs": [
    {
     "data": {
      "text/plain": [
       "<seaborn.axisgrid.FacetGrid at 0x2005d422ac0>"
      ]
     },
     "execution_count": 8,
     "metadata": {},
     "output_type": "execute_result"
    },
    {
     "data": {
      "image/png": "[encoded data removed]",
      "text/plain": [
       "<Figure size 720x360 with 1 Axes>"
      ]
     },
     "metadata": {
      "needs_background": "light"
     },
     "output_type": "display_data"
    }
   ],
   "source": [
    "sns.factorplot('Type', data=gf, kind=\"count\",size = 5,aspect = 2)"
   ]
  },
  {
   "cell_type": "markdown",
   "id": "eb651c8c",
   "metadata": {},
   "source": [
    "As shown in the grapg majority of the glass types are building_windows_float_processed and building_windows_non_float_processed, followed by headlamps."
   ]
  },
  {
   "cell_type": "code",
   "execution_count": 9,
   "id": "dfe18042",
   "metadata": {},
   "outputs": [
    {
     "data": {
      "image/png": "[encoded data removed]",
      "text/plain": [
       "<Figure size 936x1440 with 20 Axes>"
      ]
     },
     "metadata": {
      "needs_background": "light"
     },
     "output_type": "display_data"
    }
   ],
   "source": [
    "gf.plot(kind='density', subplots=True, layout=(4,5), figsize=(13,20), sharex=False, sharey=False)\n",
    "plt.show()"
   ]
  },
  {
   "cell_type": "code",
   "execution_count": 10,
   "id": "50e6a9fb",
   "metadata": {},
   "outputs": [
    {
     "data": {
      "image/png": "[encoded data removed]",
      "text/plain": [
       "<Figure size 936x1440 with 20 Axes>"
      ]
     },
     "metadata": {
      "needs_background": "light"
     },
     "output_type": "display_data"
    }
   ],
   "source": [
    "gf.plot(kind='box', subplots=True, layout=(4,5), figsize=(13,20), sharex=False, sharey=False)\n",
    "plt.show()"
   ]
  },
  {
   "cell_type": "markdown",
   "id": "48d297cc",
   "metadata": {},
   "source": [
    "# Finding correlation "
   ]
  },
  {
   "cell_type": "code",
   "execution_count": 11,
   "id": "16472b1c",
   "metadata": {},
   "outputs": [],
   "source": [
    "cor = gf.corr(method='pearson')"
   ]
  },
  {
   "cell_type": "code",
   "execution_count": 12,
   "id": "aac0cf61",
   "metadata": {},
   "outputs": [
    {
     "data": {
      "text/html": [
       "<style type=\"text/css\">\n",
       "#T_e68ea_row0_col0, #T_e68ea_row1_col1, #T_e68ea_row2_col2, #T_e68ea_row3_col3, #T_e68ea_row4_col4, #T_e68ea_row5_col5, #T_e68ea_row6_col6, #T_e68ea_row7_col7, #T_e68ea_row8_col8, #T_e68ea_row9_col9 {\n",
       "  background-color: #b40426;\n",
       "  color: #f1f1f1;\n",
       "}\n",
       "#T_e68ea_row0_col1 {\n",
       "  background-color: #4e68d8;\n",
       "  color: #f1f1f1;\n",
       "}\n",
       "#T_e68ea_row0_col2 {\n",
       "  background-color: #b2ccfb;\n",
       "  color: #000000;\n",
       "}\n",
       "#T_e68ea_row0_col3 {\n",
       "  background-color: #4961d2;\n",
       "  color: #f1f1f1;\n",
       "}\n",
       "#T_e68ea_row0_col4, #T_e68ea_row1_col8, #T_e68ea_row2_col1, #T_e68ea_row2_col3, #T_e68ea_row2_col6, #T_e68ea_row2_col7, #T_e68ea_row2_col9, #T_e68ea_row4_col0, #T_e68ea_row6_col1, #T_e68ea_row6_col5, #T_e68ea_row9_col2 {\n",
       "  background-color: #3b4cc0;\n",
       "  color: #f1f1f1;\n",
       "}\n",
       "#T_e68ea_row0_col5 {\n",
       "  background-color: #4055c8;\n",
       "  color: #f1f1f1;\n",
       "}\n",
       "#T_e68ea_row0_col6 {\n",
       "  background-color: #df634e;\n",
       "  color: #f1f1f1;\n",
       "}\n",
       "#T_e68ea_row0_col7, #T_e68ea_row4_col2 {\n",
       "  background-color: #a9c6fd;\n",
       "  color: #000000;\n",
       "}\n",
       "#T_e68ea_row0_col8 {\n",
       "  background-color: #a2c1ff;\n",
       "  color: #000000;\n",
       "}\n",
       "#T_e68ea_row0_col9 {\n",
       "  background-color: #aac7fd;\n",
       "  color: #000000;\n",
       "}\n",
       "#T_e68ea_row1_col0, #T_e68ea_row7_col6 {\n",
       "  background-color: #85a8fc;\n",
       "  color: #f1f1f1;\n",
       "}\n",
       "#T_e68ea_row1_col2, #T_e68ea_row2_col0 {\n",
       "  background-color: #94b6ff;\n",
       "  color: #000000;\n",
       "}\n",
       "#T_e68ea_row1_col3, #T_e68ea_row5_col2 {\n",
       "  background-color: #cad8ef;\n",
       "  color: #000000;\n",
       "}\n",
       "#T_e68ea_row1_col4, #T_e68ea_row9_col6 {\n",
       "  background-color: #a1c0ff;\n",
       "  color: #000000;\n",
       "}\n",
       "#T_e68ea_row1_col5, #T_e68ea_row9_col8 {\n",
       "  background-color: #465ecf;\n",
       "  color: #f1f1f1;\n",
       "}\n",
       "#T_e68ea_row1_col6 {\n",
       "  background-color: #5e7de7;\n",
       "  color: #f1f1f1;\n",
       "}\n",
       "#T_e68ea_row1_col7 {\n",
       "  background-color: #e9d5cb;\n",
       "  color: #000000;\n",
       "}\n",
       "#T_e68ea_row1_col9, #T_e68ea_row9_col7 {\n",
       "  background-color: #f7a688;\n",
       "  color: #000000;\n",
       "}\n",
       "#T_e68ea_row2_col4, #T_e68ea_row2_col5, #T_e68ea_row9_col0 {\n",
       "  background-color: #8badfd;\n",
       "  color: #000000;\n",
       "}\n",
       "#T_e68ea_row2_col8, #T_e68ea_row4_col7 {\n",
       "  background-color: #90b2fe;\n",
       "  color: #000000;\n",
       "}\n",
       "#T_e68ea_row3_col0, #T_e68ea_row5_col6 {\n",
       "  background-color: #5572df;\n",
       "  color: #f1f1f1;\n",
       "}\n",
       "#T_e68ea_row3_col1 {\n",
       "  background-color: #abc8fd;\n",
       "  color: #000000;\n",
       "}\n",
       "#T_e68ea_row3_col2, #T_e68ea_row6_col3 {\n",
       "  background-color: #6a8bef;\n",
       "  color: #f1f1f1;\n",
       "}\n",
       "#T_e68ea_row3_col4, #T_e68ea_row7_col0 {\n",
       "  background-color: #afcafc;\n",
       "  color: #000000;\n",
       "}\n",
       "#T_e68ea_row3_col5 {\n",
       "  background-color: #dadce0;\n",
       "  color: #000000;\n",
       "}\n",
       "#T_e68ea_row3_col6 {\n",
       "  background-color: #6282ea;\n",
       "  color: #f1f1f1;\n",
       "}\n",
       "#T_e68ea_row3_col7, #T_e68ea_row7_col3 {\n",
       "  background-color: #f6bda2;\n",
       "  color: #000000;\n",
       "}\n",
       "#T_e68ea_row3_col8 {\n",
       "  background-color: #6485ec;\n",
       "  color: #f1f1f1;\n",
       "}\n",
       "#T_e68ea_row3_col9 {\n",
       "  background-color: #f29072;\n",
       "  color: #f1f1f1;\n",
       "}\n",
       "#T_e68ea_row4_col1, #T_e68ea_row4_col6, #T_e68ea_row5_col0 {\n",
       "  background-color: #6e90f2;\n",
       "  color: #f1f1f1;\n",
       "}\n",
       "#T_e68ea_row4_col3 {\n",
       "  background-color: #a6c4fe;\n",
       "  color: #000000;\n",
       "}\n",
       "#T_e68ea_row4_col5 {\n",
       "  background-color: #5875e1;\n",
       "  color: #f1f1f1;\n",
       "}\n",
       "#T_e68ea_row4_col8 {\n",
       "  background-color: #5f7fe8;\n",
       "  color: #f1f1f1;\n",
       "}\n",
       "#T_e68ea_row4_col9 {\n",
       "  background-color: #e0dbd8;\n",
       "  color: #000000;\n",
       "}\n",
       "#T_e68ea_row5_col1 {\n",
       "  background-color: #3c4ec2;\n",
       "  color: #f1f1f1;\n",
       "}\n",
       "#T_e68ea_row5_col3 {\n",
       "  background-color: #e8d6cc;\n",
       "  color: #000000;\n",
       "}\n",
       "#T_e68ea_row5_col4 {\n",
       "  background-color: #84a7fc;\n",
       "  color: #f1f1f1;\n",
       "}\n",
       "#T_e68ea_row5_col7 {\n",
       "  background-color: #9fbfff;\n",
       "  color: #000000;\n",
       "}\n",
       "#T_e68ea_row5_col8 {\n",
       "  background-color: #779af7;\n",
       "  color: #f1f1f1;\n",
       "}\n",
       "#T_e68ea_row5_col9 {\n",
       "  background-color: #c6d6f1;\n",
       "  color: #000000;\n",
       "}\n",
       "#T_e68ea_row6_col0 {\n",
       "  background-color: #dd5f4b;\n",
       "  color: #f1f1f1;\n",
       "}\n",
       "#T_e68ea_row6_col2 {\n",
       "  background-color: #7295f4;\n",
       "  color: #f1f1f1;\n",
       "}\n",
       "#T_e68ea_row6_col4 {\n",
       "  background-color: #81a4fb;\n",
       "  color: #f1f1f1;\n",
       "}\n",
       "#T_e68ea_row6_col7 {\n",
       "  background-color: #8fb1fe;\n",
       "  color: #000000;\n",
       "}\n",
       "#T_e68ea_row6_col8 {\n",
       "  background-color: #9dbdff;\n",
       "  color: #000000;\n",
       "}\n",
       "#T_e68ea_row6_col9 {\n",
       "  background-color: #c9d7f0;\n",
       "  color: #000000;\n",
       "}\n",
       "#T_e68ea_row7_col1 {\n",
       "  background-color: #d5dbe5;\n",
       "  color: #000000;\n",
       "}\n",
       "#T_e68ea_row7_col2, #T_e68ea_row7_col8 {\n",
       "  background-color: #688aef;\n",
       "  color: #f1f1f1;\n",
       "}\n",
       "#T_e68ea_row7_col4 {\n",
       "  background-color: #9abbff;\n",
       "  color: #000000;\n",
       "}\n",
       "#T_e68ea_row7_col5 {\n",
       "  background-color: #7ea1fa;\n",
       "  color: #f1f1f1;\n",
       "}\n",
       "#T_e68ea_row7_col9 {\n",
       "  background-color: #f39778;\n",
       "  color: #000000;\n",
       "}\n",
       "#T_e68ea_row8_col0 {\n",
       "  background-color: #cdd9ec;\n",
       "  color: #000000;\n",
       "}\n",
       "#T_e68ea_row8_col1 {\n",
       "  background-color: #4257c9;\n",
       "  color: #f1f1f1;\n",
       "}\n",
       "#T_e68ea_row8_col2 {\n",
       "  background-color: #d6dce4;\n",
       "  color: #000000;\n",
       "}\n",
       "#T_e68ea_row8_col3 {\n",
       "  background-color: #96b7ff;\n",
       "  color: #000000;\n",
       "}\n",
       "#T_e68ea_row8_col4, #T_e68ea_row8_col7 {\n",
       "  background-color: #9bbcff;\n",
       "  color: #000000;\n",
       "}\n",
       "#T_e68ea_row8_col5 {\n",
       "  background-color: #88abfd;\n",
       "  color: #000000;\n",
       "}\n",
       "#T_e68ea_row8_col6 {\n",
       "  background-color: #bed2f6;\n",
       "  color: #000000;\n",
       "}\n",
       "#T_e68ea_row8_col9 {\n",
       "  background-color: #a5c3fe;\n",
       "  color: #000000;\n",
       "}\n",
       "#T_e68ea_row9_col1 {\n",
       "  background-color: #f3c8b2;\n",
       "  color: #000000;\n",
       "}\n",
       "#T_e68ea_row9_col3 {\n",
       "  background-color: #f6a283;\n",
       "  color: #000000;\n",
       "}\n",
       "#T_e68ea_row9_col4 {\n",
       "  background-color: #cfdaea;\n",
       "  color: #000000;\n",
       "}\n",
       "#T_e68ea_row9_col5 {\n",
       "  background-color: #86a9fc;\n",
       "  color: #f1f1f1;\n",
       "}\n",
       "</style>\n",
       "<table id=\"T_e68ea\">\n",
       "  <thead>\n",
       "    <tr>\n",
       "      <th class=\"blank level0\" >&nbsp;</th>\n",
       "      <th id=\"T_e68ea_level0_col0\" class=\"col_heading level0 col0\" >RI</th>\n",
       "      <th id=\"T_e68ea_level0_col1\" class=\"col_heading level0 col1\" >Na</th>\n",
       "      <th id=\"T_e68ea_level0_col2\" class=\"col_heading level0 col2\" >Mg</th>\n",
       "      <th id=\"T_e68ea_level0_col3\" class=\"col_heading level0 col3\" >Al</th>\n",
       "      <th id=\"T_e68ea_level0_col4\" class=\"col_heading level0 col4\" >Si</th>\n",
       "      <th id=\"T_e68ea_level0_col5\" class=\"col_heading level0 col5\" >K</th>\n",
       "      <th id=\"T_e68ea_level0_col6\" class=\"col_heading level0 col6\" >Ca</th>\n",
       "      <th id=\"T_e68ea_level0_col7\" class=\"col_heading level0 col7\" >Ba</th>\n",
       "      <th id=\"T_e68ea_level0_col8\" class=\"col_heading level0 col8\" >Fe</th>\n",
       "      <th id=\"T_e68ea_level0_col9\" class=\"col_heading level0 col9\" >Type</th>\n",
       "    </tr>\n",
       "  </thead>\n",
       "  <tbody>\n",
       "    <tr>\n",
       "      <th id=\"T_e68ea_level0_row0\" class=\"row_heading level0 row0\" >RI</th>\n",
       "      <td id=\"T_e68ea_row0_col0\" class=\"data row0 col0\" >1.000000</td>\n",
       "      <td id=\"T_e68ea_row0_col1\" class=\"data row0 col1\" >-0.191885</td>\n",
       "      <td id=\"T_e68ea_row0_col2\" class=\"data row0 col2\" >-0.122274</td>\n",
       "      <td id=\"T_e68ea_row0_col3\" class=\"data row0 col3\" >-0.407326</td>\n",
       "      <td id=\"T_e68ea_row0_col4\" class=\"data row0 col4\" >-0.542052</td>\n",
       "      <td id=\"T_e68ea_row0_col5\" class=\"data row0 col5\" >-0.289833</td>\n",
       "      <td id=\"T_e68ea_row0_col6\" class=\"data row0 col6\" >0.810403</td>\n",
       "      <td id=\"T_e68ea_row0_col7\" class=\"data row0 col7\" >-0.000386</td>\n",
       "      <td id=\"T_e68ea_row0_col8\" class=\"data row0 col8\" >0.143010</td>\n",
       "      <td id=\"T_e68ea_row0_col9\" class=\"data row0 col9\" >-0.164237</td>\n",
       "    </tr>\n",
       "    <tr>\n",
       "      <th id=\"T_e68ea_level0_row1\" class=\"row_heading level0 row1\" >Na</th>\n",
       "      <td id=\"T_e68ea_row1_col0\" class=\"data row1 col0\" >-0.191885</td>\n",
       "      <td id=\"T_e68ea_row1_col1\" class=\"data row1 col1\" >1.000000</td>\n",
       "      <td id=\"T_e68ea_row1_col2\" class=\"data row1 col2\" >-0.273732</td>\n",
       "      <td id=\"T_e68ea_row1_col3\" class=\"data row1 col3\" >0.156794</td>\n",
       "      <td id=\"T_e68ea_row1_col4\" class=\"data row1 col4\" >-0.069809</td>\n",
       "      <td id=\"T_e68ea_row1_col5\" class=\"data row1 col5\" >-0.266087</td>\n",
       "      <td id=\"T_e68ea_row1_col6\" class=\"data row1 col6\" >-0.275442</td>\n",
       "      <td id=\"T_e68ea_row1_col7\" class=\"data row1 col7\" >0.326603</td>\n",
       "      <td id=\"T_e68ea_row1_col8\" class=\"data row1 col8\" >-0.241346</td>\n",
       "      <td id=\"T_e68ea_row1_col9\" class=\"data row1 col9\" >0.502898</td>\n",
       "    </tr>\n",
       "    <tr>\n",
       "      <th id=\"T_e68ea_level0_row2\" class=\"row_heading level0 row2\" >Mg</th>\n",
       "      <td id=\"T_e68ea_row2_col0\" class=\"data row2 col0\" >-0.122274</td>\n",
       "      <td id=\"T_e68ea_row2_col1\" class=\"data row2 col1\" >-0.273732</td>\n",
       "      <td id=\"T_e68ea_row2_col2\" class=\"data row2 col2\" >1.000000</td>\n",
       "      <td id=\"T_e68ea_row2_col3\" class=\"data row2 col3\" >-0.481799</td>\n",
       "      <td id=\"T_e68ea_row2_col4\" class=\"data row2 col4\" >-0.165927</td>\n",
       "      <td id=\"T_e68ea_row2_col5\" class=\"data row2 col5\" >0.005396</td>\n",
       "      <td id=\"T_e68ea_row2_col6\" class=\"data row2 col6\" >-0.443750</td>\n",
       "      <td id=\"T_e68ea_row2_col7\" class=\"data row2 col7\" >-0.492262</td>\n",
       "      <td id=\"T_e68ea_row2_col8\" class=\"data row2 col8\" >0.083060</td>\n",
       "      <td id=\"T_e68ea_row2_col9\" class=\"data row2 col9\" >-0.744993</td>\n",
       "    </tr>\n",
       "    <tr>\n",
       "      <th id=\"T_e68ea_level0_row3\" class=\"row_heading level0 row3\" >Al</th>\n",
       "      <td id=\"T_e68ea_row3_col0\" class=\"data row3 col0\" >-0.407326</td>\n",
       "      <td id=\"T_e68ea_row3_col1\" class=\"data row3 col1\" >0.156794</td>\n",
       "      <td id=\"T_e68ea_row3_col2\" class=\"data row3 col2\" >-0.481799</td>\n",
       "      <td id=\"T_e68ea_row3_col3\" class=\"data row3 col3\" >1.000000</td>\n",
       "      <td id=\"T_e68ea_row3_col4\" class=\"data row3 col4\" >-0.005524</td>\n",
       "      <td id=\"T_e68ea_row3_col5\" class=\"data row3 col5\" >0.325958</td>\n",
       "      <td id=\"T_e68ea_row3_col6\" class=\"data row3 col6\" >-0.259592</td>\n",
       "      <td id=\"T_e68ea_row3_col7\" class=\"data row3 col7\" >0.479404</td>\n",
       "      <td id=\"T_e68ea_row3_col8\" class=\"data row3 col8\" >-0.074402</td>\n",
       "      <td id=\"T_e68ea_row3_col9\" class=\"data row3 col9\" >0.598829</td>\n",
       "    </tr>\n",
       "    <tr>\n",
       "      <th id=\"T_e68ea_level0_row4\" class=\"row_heading level0 row4\" >Si</th>\n",
       "      <td id=\"T_e68ea_row4_col0\" class=\"data row4 col0\" >-0.542052</td>\n",
       "      <td id=\"T_e68ea_row4_col1\" class=\"data row4 col1\" >-0.069809</td>\n",
       "      <td id=\"T_e68ea_row4_col2\" class=\"data row4 col2\" >-0.165927</td>\n",
       "      <td id=\"T_e68ea_row4_col3\" class=\"data row4 col3\" >-0.005524</td>\n",
       "      <td id=\"T_e68ea_row4_col4\" class=\"data row4 col4\" >1.000000</td>\n",
       "      <td id=\"T_e68ea_row4_col5\" class=\"data row4 col5\" >-0.193331</td>\n",
       "      <td id=\"T_e68ea_row4_col6\" class=\"data row4 col6\" >-0.208732</td>\n",
       "      <td id=\"T_e68ea_row4_col7\" class=\"data row4 col7\" >-0.102151</td>\n",
       "      <td id=\"T_e68ea_row4_col8\" class=\"data row4 col8\" >-0.094201</td>\n",
       "      <td id=\"T_e68ea_row4_col9\" class=\"data row4 col9\" >0.151565</td>\n",
       "    </tr>\n",
       "    <tr>\n",
       "      <th id=\"T_e68ea_level0_row5\" class=\"row_heading level0 row5\" >K</th>\n",
       "      <td id=\"T_e68ea_row5_col0\" class=\"data row5 col0\" >-0.289833</td>\n",
       "      <td id=\"T_e68ea_row5_col1\" class=\"data row5 col1\" >-0.266087</td>\n",
       "      <td id=\"T_e68ea_row5_col2\" class=\"data row5 col2\" >0.005396</td>\n",
       "      <td id=\"T_e68ea_row5_col3\" class=\"data row5 col3\" >0.325958</td>\n",
       "      <td id=\"T_e68ea_row5_col4\" class=\"data row5 col4\" >-0.193331</td>\n",
       "      <td id=\"T_e68ea_row5_col5\" class=\"data row5 col5\" >1.000000</td>\n",
       "      <td id=\"T_e68ea_row5_col6\" class=\"data row5 col6\" >-0.317836</td>\n",
       "      <td id=\"T_e68ea_row5_col7\" class=\"data row5 col7\" >-0.042618</td>\n",
       "      <td id=\"T_e68ea_row5_col8\" class=\"data row5 col8\" >-0.007719</td>\n",
       "      <td id=\"T_e68ea_row5_col9\" class=\"data row5 col9\" >-0.010054</td>\n",
       "    </tr>\n",
       "    <tr>\n",
       "      <th id=\"T_e68ea_level0_row6\" class=\"row_heading level0 row6\" >Ca</th>\n",
       "      <td id=\"T_e68ea_row6_col0\" class=\"data row6 col0\" >0.810403</td>\n",
       "      <td id=\"T_e68ea_row6_col1\" class=\"data row6 col1\" >-0.275442</td>\n",
       "      <td id=\"T_e68ea_row6_col2\" class=\"data row6 col2\" >-0.443750</td>\n",
       "      <td id=\"T_e68ea_row6_col3\" class=\"data row6 col3\" >-0.259592</td>\n",
       "      <td id=\"T_e68ea_row6_col4\" class=\"data row6 col4\" >-0.208732</td>\n",
       "      <td id=\"T_e68ea_row6_col5\" class=\"data row6 col5\" >-0.317836</td>\n",
       "      <td id=\"T_e68ea_row6_col6\" class=\"data row6 col6\" >1.000000</td>\n",
       "      <td id=\"T_e68ea_row6_col7\" class=\"data row6 col7\" >-0.112841</td>\n",
       "      <td id=\"T_e68ea_row6_col8\" class=\"data row6 col8\" >0.124968</td>\n",
       "      <td id=\"T_e68ea_row6_col9\" class=\"data row6 col9\" >0.000952</td>\n",
       "    </tr>\n",
       "    <tr>\n",
       "      <th id=\"T_e68ea_level0_row7\" class=\"row_heading level0 row7\" >Ba</th>\n",
       "      <td id=\"T_e68ea_row7_col0\" class=\"data row7 col0\" >-0.000386</td>\n",
       "      <td id=\"T_e68ea_row7_col1\" class=\"data row7 col1\" >0.326603</td>\n",
       "      <td id=\"T_e68ea_row7_col2\" class=\"data row7 col2\" >-0.492262</td>\n",
       "      <td id=\"T_e68ea_row7_col3\" class=\"data row7 col3\" >0.479404</td>\n",
       "      <td id=\"T_e68ea_row7_col4\" class=\"data row7 col4\" >-0.102151</td>\n",
       "      <td id=\"T_e68ea_row7_col5\" class=\"data row7 col5\" >-0.042618</td>\n",
       "      <td id=\"T_e68ea_row7_col6\" class=\"data row7 col6\" >-0.112841</td>\n",
       "      <td id=\"T_e68ea_row7_col7\" class=\"data row7 col7\" >1.000000</td>\n",
       "      <td id=\"T_e68ea_row7_col8\" class=\"data row7 col8\" >-0.058692</td>\n",
       "      <td id=\"T_e68ea_row7_col9\" class=\"data row7 col9\" >0.575161</td>\n",
       "    </tr>\n",
       "    <tr>\n",
       "      <th id=\"T_e68ea_level0_row8\" class=\"row_heading level0 row8\" >Fe</th>\n",
       "      <td id=\"T_e68ea_row8_col0\" class=\"data row8 col0\" >0.143010</td>\n",
       "      <td id=\"T_e68ea_row8_col1\" class=\"data row8 col1\" >-0.241346</td>\n",
       "      <td id=\"T_e68ea_row8_col2\" class=\"data row8 col2\" >0.083060</td>\n",
       "      <td id=\"T_e68ea_row8_col3\" class=\"data row8 col3\" >-0.074402</td>\n",
       "      <td id=\"T_e68ea_row8_col4\" class=\"data row8 col4\" >-0.094201</td>\n",
       "      <td id=\"T_e68ea_row8_col5\" class=\"data row8 col5\" >-0.007719</td>\n",
       "      <td id=\"T_e68ea_row8_col6\" class=\"data row8 col6\" >0.124968</td>\n",
       "      <td id=\"T_e68ea_row8_col7\" class=\"data row8 col7\" >-0.058692</td>\n",
       "      <td id=\"T_e68ea_row8_col8\" class=\"data row8 col8\" >1.000000</td>\n",
       "      <td id=\"T_e68ea_row8_col9\" class=\"data row8 col9\" >-0.188278</td>\n",
       "    </tr>\n",
       "    <tr>\n",
       "      <th id=\"T_e68ea_level0_row9\" class=\"row_heading level0 row9\" >Type</th>\n",
       "      <td id=\"T_e68ea_row9_col0\" class=\"data row9 col0\" >-0.164237</td>\n",
       "      <td id=\"T_e68ea_row9_col1\" class=\"data row9 col1\" >0.502898</td>\n",
       "      <td id=\"T_e68ea_row9_col2\" class=\"data row9 col2\" >-0.744993</td>\n",
       "      <td id=\"T_e68ea_row9_col3\" class=\"data row9 col3\" >0.598829</td>\n",
       "      <td id=\"T_e68ea_row9_col4\" class=\"data row9 col4\" >0.151565</td>\n",
       "      <td id=\"T_e68ea_row9_col5\" class=\"data row9 col5\" >-0.010054</td>\n",
       "      <td id=\"T_e68ea_row9_col6\" class=\"data row9 col6\" >0.000952</td>\n",
       "      <td id=\"T_e68ea_row9_col7\" class=\"data row9 col7\" >0.575161</td>\n",
       "      <td id=\"T_e68ea_row9_col8\" class=\"data row9 col8\" >-0.188278</td>\n",
       "      <td id=\"T_e68ea_row9_col9\" class=\"data row9 col9\" >1.000000</td>\n",
       "    </tr>\n",
       "  </tbody>\n",
       "</table>\n"
      ],
      "text/plain": [
       "<pandas.io.formats.style.Styler at 0x200600e74f0>"
      ]
     },
     "execution_count": 12,
     "metadata": {},
     "output_type": "execute_result"
    }
   ],
   "source": [
    "cor.style.background_gradient(cmap='coolwarm')"
   ]
  },
  {
   "cell_type": "markdown",
   "id": "650f0ebe",
   "metadata": {},
   "source": [
    "As seen in the above graph, there is a high correlation exists between some of the variables."
   ]
  },
  {
   "cell_type": "markdown",
   "id": "10cea6b6",
   "metadata": {},
   "source": [
    "# Train Test Split"
   ]
  },
  {
   "cell_type": "code",
   "execution_count": 13,
   "id": "afa9839c",
   "metadata": {},
   "outputs": [],
   "source": [
    "from sklearn.model_selection import train_test_split"
   ]
  },
  {
   "cell_type": "code",
   "execution_count": 14,
   "id": "136c25b5",
   "metadata": {},
   "outputs": [],
   "source": [
    "X_train, X_test, y_train, y_test = train_test_split(scaled_features,gf['Type'],\n",
    "                                                    test_size=0.30)"
   ]
  },
  {
   "cell_type": "markdown",
   "id": "4df86fc3",
   "metadata": {},
   "source": [
    "# Using KNN\n",
    "preparing of model to predict that a glass belongs to 'type' or not.So first take k=1"
   ]
  },
  {
   "cell_type": "code",
   "execution_count": 15,
   "id": "4fe48ebb",
   "metadata": {},
   "outputs": [],
   "source": [
    "from sklearn.neighbors import KNeighborsClassifier"
   ]
  },
  {
   "cell_type": "code",
   "execution_count": 16,
   "id": "8a6e26c8",
   "metadata": {},
   "outputs": [],
   "source": [
    "knn = KNeighborsClassifier(n_neighbors=1)"
   ]
  },
  {
   "cell_type": "code",
   "execution_count": 17,
   "id": "5d8ff837",
   "metadata": {},
   "outputs": [
    {
     "data": {
      "text/plain": [
       "KNeighborsClassifier(n_neighbors=1)"
      ]
     },
     "execution_count": 17,
     "metadata": {},
     "output_type": "execute_result"
    }
   ],
   "source": [
    "knn.fit(X_train, y_train)"
   ]
  },
  {
   "cell_type": "code",
   "execution_count": 18,
   "id": "4d3a52ac",
   "metadata": {},
   "outputs": [],
   "source": [
    "pred = knn.predict(X_test)"
   ]
  },
  {
   "cell_type": "markdown",
   "id": "0a02c8a6",
   "metadata": {},
   "source": [
    "# Predictions and Evaluations\n",
    "Evaluating the KNN model"
   ]
  },
  {
   "cell_type": "code",
   "execution_count": 19,
   "id": "ea6906c9",
   "metadata": {},
   "outputs": [],
   "source": [
    "from sklearn.metrics import classification_report,confusion_matrix\n",
    "from sklearn.model_selection import cross_val_score"
   ]
  },
  {
   "cell_type": "code",
   "execution_count": 20,
   "id": "b5fbf64c",
   "metadata": {},
   "outputs": [
    {
     "name": "stdout",
     "output_type": "stream",
     "text": [
      "[[13  1  2  0  0  0]\n",
      " [ 4 18  0  2  0  0]\n",
      " [ 2  1  2  0  0  0]\n",
      " [ 1  0  0  3  0  2]\n",
      " [ 0  1  0  0  1  1]\n",
      " [ 1  0  0  1  0  9]]\n"
     ]
    }
   ],
   "source": [
    "print(confusion_matrix(y_test,pred))"
   ]
  },
  {
   "cell_type": "code",
   "execution_count": 21,
   "id": "b4138d26",
   "metadata": {},
   "outputs": [
    {
     "name": "stdout",
     "output_type": "stream",
     "text": [
      "              precision    recall  f1-score   support\n",
      "\n",
      "           1       0.62      0.81      0.70        16\n",
      "           2       0.86      0.75      0.80        24\n",
      "           3       0.50      0.40      0.44         5\n",
      "           5       0.50      0.50      0.50         6\n",
      "           6       1.00      0.33      0.50         3\n",
      "           7       0.75      0.82      0.78        11\n",
      "\n",
      "    accuracy                           0.71        65\n",
      "   macro avg       0.70      0.60      0.62        65\n",
      "weighted avg       0.73      0.71      0.70        65\n",
      "\n"
     ]
    }
   ],
   "source": [
    "print(classification_report(y_test,pred))"
   ]
  },
  {
   "cell_type": "markdown",
   "id": "26aa446e",
   "metadata": {},
   "source": [
    "# Choosing a K Value\n",
    "Using elbow method to choose a good K value:"
   ]
  },
  {
   "cell_type": "code",
   "execution_count": 22,
   "id": "e82b62dd",
   "metadata": {},
   "outputs": [],
   "source": [
    "accuracy_rate = []\n",
    "\n",
    "for i in range(1,40):\n",
    "    \n",
    "    knn = KNeighborsClassifier(n_neighbors=i)\n",
    "    score=cross_val_score(knn,gf_feat,gf['Type'],cv=10)\n",
    "    accuracy_rate.append(score.mean())"
   ]
  },
  {
   "cell_type": "code",
   "execution_count": 23,
   "id": "aefd2900",
   "metadata": {},
   "outputs": [],
   "source": [
    "error_rate = []\n",
    "\n",
    "for i in range(1,40):\n",
    "    \n",
    "    knn = KNeighborsClassifier(n_neighbors=i)\n",
    "    score=cross_val_score(knn,gf_feat,gf['Type'],cv=10)\n",
    "    error_rate.append(1-score.mean())"
   ]
  },
  {
   "cell_type": "code",
   "execution_count": 24,
   "id": "a31102b7",
   "metadata": {},
   "outputs": [],
   "source": [
    "error_rate = []\n",
    "\n",
    "for i in range(1,40):\n",
    "    \n",
    "    knn = KNeighborsClassifier(n_neighbors=i)\n",
    "    knn.fit(X_train,y_train)\n",
    "    pred_i = knn.predict(X_test)\n",
    "    error_rate.append(np.mean(pred_i != y_test))"
   ]
  },
  {
   "cell_type": "code",
   "execution_count": 25,
   "id": "8f57604c",
   "metadata": {},
   "outputs": [
    {
     "data": {
      "text/plain": [
       "Text(0, 0.5, 'Accuracy rate')"
      ]
     },
     "execution_count": 25,
     "metadata": {},
     "output_type": "execute_result"
    },
    {
     "data": {
      "image/png": "[encoded data removed]",
      "text/plain": [
       "<Figure size 720x432 with 1 Axes>"
      ]
     },
     "metadata": {
      "needs_background": "light"
     },
     "output_type": "display_data"
    }
   ],
   "source": [
    "plt.figure(figsize=(10,6))\n",
    "\n",
    "plt.plot(range(1,40),accuracy_rate,color='blue', linestyle='dashed', marker='o',\n",
    "         markerfacecolor='red', markersize=10)\n",
    "plt.title('Acuuracy Rate vs. K Value')\n",
    "plt.xlabel('K')\n",
    "plt.ylabel('Accuracy rate')"
   ]
  },
  {
   "cell_type": "markdown",
   "id": "fdaba68e",
   "metadata": {},
   "source": [
    "here k>7 so that the accuracy just tends to hover around 0.60 to 0.58"
   ]
  },
  {
   "cell_type": "code",
   "execution_count": 26,
   "id": "6b41abac",
   "metadata": {},
   "outputs": [
    {
     "data": {
      "text/plain": [
       "Text(0, 0.5, 'Error Rate')"
      ]
     },
     "execution_count": 26,
     "metadata": {},
     "output_type": "execute_result"
    },
    {
     "data": {
      "image/png": "[encoded data removed]",
      "text/plain": [
       "<Figure size 720x432 with 1 Axes>"
      ]
     },
     "metadata": {
      "needs_background": "light"
     },
     "output_type": "display_data"
    }
   ],
   "source": [
    "plt.figure(figsize=(10,6))\n",
    "plt.plot(range(1,40),error_rate,color='blue', linestyle='dashed', marker='o',\n",
    "         markerfacecolor='red', markersize=10)\n",
    "plt.title('Error Rate vs. K Value')\n",
    "plt.xlabel('K')\n",
    "plt.ylabel('Error Rate')"
   ]
  },
  {
   "cell_type": "markdown",
   "id": "5ff272ae",
   "metadata": {},
   "source": [
    "here k>7 so that the error just tends to hover around 0.34 to 0.36"
   ]
  },
  {
   "cell_type": "code",
   "execution_count": 27,
   "id": "df74b7bd",
   "metadata": {},
   "outputs": [
    {
     "name": "stdout",
     "output_type": "stream",
     "text": [
      "WITH K=7\n",
      "\n",
      "\n",
      "[[14  2  0  0  0  0]\n",
      " [ 5 17  0  1  1  0]\n",
      " [ 2  3  0  0  0  0]\n",
      " [ 0  3  0  3  0  0]\n",
      " [ 0  1  0  0  2  0]\n",
      " [ 1  0  0  0  0 10]]\n",
      "\n",
      "\n",
      "              precision    recall  f1-score   support\n",
      "\n",
      "           1       0.64      0.88      0.74        16\n",
      "           2       0.65      0.71      0.68        24\n",
      "           3       0.00      0.00      0.00         5\n",
      "           5       0.75      0.50      0.60         6\n",
      "           6       0.67      0.67      0.67         3\n",
      "           7       1.00      0.91      0.95        11\n",
      "\n",
      "    accuracy                           0.71        65\n",
      "   macro avg       0.62      0.61      0.61        65\n",
      "weighted avg       0.67      0.71      0.68        65\n",
      "\n"
     ]
    }
   ],
   "source": [
    "# NOW WITH K=7\n",
    "knn = KNeighborsClassifier(n_neighbors=7)\n",
    "\n",
    "knn.fit(X_train,y_train)\n",
    "pred = knn.predict(X_test)\n",
    "\n",
    "print('WITH K=7')\n",
    "print('\\n')\n",
    "print(confusion_matrix(y_test,pred))\n",
    "print('\\n')\n",
    "print(classification_report(y_test,pred))"
   ]
  },
  {
   "cell_type": "code",
   "execution_count": null,
   "id": "2042a7d9",
   "metadata": {},
   "outputs": [],
   "source": []
  }
 ],
 "metadata": {
  "kernelspec": {
   "display_name": "Python 3 (ipykernel)",
   "language": "python",
   "name": "python3"
  },
  "language_info": {
   "codemirror_mode": {
    "name": "ipython",
    "version": 3
   },
   "file_extension": ".py",
   "mimetype": "text/x-python",
   "name": "python",
   "nbconvert_exporter": "python",
   "pygments_lexer": "ipython3",
   "version": "3.9.12"
  }
 },
 "nbformat": 4,
 "nbformat_minor": 5
}
