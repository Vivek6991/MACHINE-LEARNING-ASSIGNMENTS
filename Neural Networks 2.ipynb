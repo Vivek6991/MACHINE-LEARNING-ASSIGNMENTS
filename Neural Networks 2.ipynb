{
 "cells": [
  {
   "cell_type": "markdown",
   "id": "5a10d19b",
   "metadata": {},
   "source": [
    "# Q2) Gas Turbine_data :> Problem Statement:\n",
    "                      predicting turbine energy yield (TEY) using ambient variables as features.\n"
   ]
  },
  {
   "cell_type": "code",
   "execution_count": 1,
   "id": "5904d6ce",
   "metadata": {},
   "outputs": [],
   "source": [
    "# importing dataset and library\n",
    "import pandas as pd\n",
    "import numpy as np\n",
    "from sklearn.model_selection import train_test_split, cross_val_score\n",
    "import seaborn as sns\n",
    "from matplotlib import pyplot as plt\n",
    "%matplotlib inline\n",
    "import tensorflow as tf"
   ]
  },
  {
   "cell_type": "code",
   "execution_count": 2,
   "id": "b2ba31e0",
   "metadata": {},
   "outputs": [],
   "source": [
    "gf=pd.read_csv('C:\\\\Users\\\\DELL\\\\OneDrive\\\\Desktop\\\\DATA SCIENCE\\\\Datasets\\\\gas_turbines.csv')"
   ]
  },
  {
   "cell_type": "code",
   "execution_count": 3,
   "id": "6404a660",
   "metadata": {},
   "outputs": [
    {
     "data": {
      "text/html": [
       "<div>\n",
       "<style scoped>\n",
       "    .dataframe tbody tr th:only-of-type {\n",
       "        vertical-align: middle;\n",
       "    }\n",
       "\n",
       "    .dataframe tbody tr th {\n",
       "        vertical-align: top;\n",
       "    }\n",
       "\n",
       "    .dataframe thead th {\n",
       "        text-align: right;\n",
       "    }\n",
       "</style>\n",
       "<table border=\"1\" class=\"dataframe\">\n",
       "  <thead>\n",
       "    <tr style=\"text-align: right;\">\n",
       "      <th></th>\n",
       "      <th>AT</th>\n",
       "      <th>AP</th>\n",
       "      <th>AH</th>\n",
       "      <th>AFDP</th>\n",
       "      <th>GTEP</th>\n",
       "      <th>TIT</th>\n",
       "      <th>TAT</th>\n",
       "      <th>TEY</th>\n",
       "      <th>CDP</th>\n",
       "      <th>CO</th>\n",
       "      <th>NOX</th>\n",
       "    </tr>\n",
       "  </thead>\n",
       "  <tbody>\n",
       "    <tr>\n",
       "      <th>0</th>\n",
       "      <td>6.8594</td>\n",
       "      <td>1007.9</td>\n",
       "      <td>96.799</td>\n",
       "      <td>3.5000</td>\n",
       "      <td>19.663</td>\n",
       "      <td>1059.2</td>\n",
       "      <td>550.00</td>\n",
       "      <td>114.70</td>\n",
       "      <td>10.605</td>\n",
       "      <td>3.1547</td>\n",
       "      <td>82.722</td>\n",
       "    </tr>\n",
       "    <tr>\n",
       "      <th>1</th>\n",
       "      <td>6.7850</td>\n",
       "      <td>1008.4</td>\n",
       "      <td>97.118</td>\n",
       "      <td>3.4998</td>\n",
       "      <td>19.728</td>\n",
       "      <td>1059.3</td>\n",
       "      <td>550.00</td>\n",
       "      <td>114.72</td>\n",
       "      <td>10.598</td>\n",
       "      <td>3.2363</td>\n",
       "      <td>82.776</td>\n",
       "    </tr>\n",
       "    <tr>\n",
       "      <th>2</th>\n",
       "      <td>6.8977</td>\n",
       "      <td>1008.8</td>\n",
       "      <td>95.939</td>\n",
       "      <td>3.4824</td>\n",
       "      <td>19.779</td>\n",
       "      <td>1059.4</td>\n",
       "      <td>549.87</td>\n",
       "      <td>114.71</td>\n",
       "      <td>10.601</td>\n",
       "      <td>3.2012</td>\n",
       "      <td>82.468</td>\n",
       "    </tr>\n",
       "    <tr>\n",
       "      <th>3</th>\n",
       "      <td>7.0569</td>\n",
       "      <td>1009.2</td>\n",
       "      <td>95.249</td>\n",
       "      <td>3.4805</td>\n",
       "      <td>19.792</td>\n",
       "      <td>1059.6</td>\n",
       "      <td>549.99</td>\n",
       "      <td>114.72</td>\n",
       "      <td>10.606</td>\n",
       "      <td>3.1923</td>\n",
       "      <td>82.670</td>\n",
       "    </tr>\n",
       "    <tr>\n",
       "      <th>4</th>\n",
       "      <td>7.3978</td>\n",
       "      <td>1009.7</td>\n",
       "      <td>95.150</td>\n",
       "      <td>3.4976</td>\n",
       "      <td>19.765</td>\n",
       "      <td>1059.7</td>\n",
       "      <td>549.98</td>\n",
       "      <td>114.72</td>\n",
       "      <td>10.612</td>\n",
       "      <td>3.2484</td>\n",
       "      <td>82.311</td>\n",
       "    </tr>\n",
       "    <tr>\n",
       "      <th>...</th>\n",
       "      <td>...</td>\n",
       "      <td>...</td>\n",
       "      <td>...</td>\n",
       "      <td>...</td>\n",
       "      <td>...</td>\n",
       "      <td>...</td>\n",
       "      <td>...</td>\n",
       "      <td>...</td>\n",
       "      <td>...</td>\n",
       "      <td>...</td>\n",
       "      <td>...</td>\n",
       "    </tr>\n",
       "    <tr>\n",
       "      <th>15034</th>\n",
       "      <td>9.0301</td>\n",
       "      <td>1005.6</td>\n",
       "      <td>98.460</td>\n",
       "      <td>3.5421</td>\n",
       "      <td>19.164</td>\n",
       "      <td>1049.7</td>\n",
       "      <td>546.21</td>\n",
       "      <td>111.61</td>\n",
       "      <td>10.400</td>\n",
       "      <td>4.5186</td>\n",
       "      <td>79.559</td>\n",
       "    </tr>\n",
       "    <tr>\n",
       "      <th>15035</th>\n",
       "      <td>7.8879</td>\n",
       "      <td>1005.9</td>\n",
       "      <td>99.093</td>\n",
       "      <td>3.5059</td>\n",
       "      <td>19.414</td>\n",
       "      <td>1046.3</td>\n",
       "      <td>543.22</td>\n",
       "      <td>111.78</td>\n",
       "      <td>10.433</td>\n",
       "      <td>4.8470</td>\n",
       "      <td>79.917</td>\n",
       "    </tr>\n",
       "    <tr>\n",
       "      <th>15036</th>\n",
       "      <td>7.2647</td>\n",
       "      <td>1006.3</td>\n",
       "      <td>99.496</td>\n",
       "      <td>3.4770</td>\n",
       "      <td>19.530</td>\n",
       "      <td>1037.7</td>\n",
       "      <td>537.32</td>\n",
       "      <td>110.19</td>\n",
       "      <td>10.483</td>\n",
       "      <td>7.9632</td>\n",
       "      <td>90.912</td>\n",
       "    </tr>\n",
       "    <tr>\n",
       "      <th>15037</th>\n",
       "      <td>7.0060</td>\n",
       "      <td>1006.8</td>\n",
       "      <td>99.008</td>\n",
       "      <td>3.4486</td>\n",
       "      <td>19.377</td>\n",
       "      <td>1043.2</td>\n",
       "      <td>541.24</td>\n",
       "      <td>110.74</td>\n",
       "      <td>10.533</td>\n",
       "      <td>6.2494</td>\n",
       "      <td>93.227</td>\n",
       "    </tr>\n",
       "    <tr>\n",
       "      <th>15038</th>\n",
       "      <td>6.9279</td>\n",
       "      <td>1007.2</td>\n",
       "      <td>97.533</td>\n",
       "      <td>3.4275</td>\n",
       "      <td>19.306</td>\n",
       "      <td>1049.9</td>\n",
       "      <td>545.85</td>\n",
       "      <td>111.58</td>\n",
       "      <td>10.583</td>\n",
       "      <td>4.9816</td>\n",
       "      <td>92.498</td>\n",
       "    </tr>\n",
       "  </tbody>\n",
       "</table>\n",
       "<p>15039 rows × 11 columns</p>\n",
       "</div>"
      ],
      "text/plain": [
       "           AT      AP      AH    AFDP    GTEP     TIT     TAT     TEY     CDP  \\\n",
       "0      6.8594  1007.9  96.799  3.5000  19.663  1059.2  550.00  114.70  10.605   \n",
       "1      6.7850  1008.4  97.118  3.4998  19.728  1059.3  550.00  114.72  10.598   \n",
       "2      6.8977  1008.8  95.939  3.4824  19.779  1059.4  549.87  114.71  10.601   \n",
       "3      7.0569  1009.2  95.249  3.4805  19.792  1059.6  549.99  114.72  10.606   \n",
       "4      7.3978  1009.7  95.150  3.4976  19.765  1059.7  549.98  114.72  10.612   \n",
       "...       ...     ...     ...     ...     ...     ...     ...     ...     ...   \n",
       "15034  9.0301  1005.6  98.460  3.5421  19.164  1049.7  546.21  111.61  10.400   \n",
       "15035  7.8879  1005.9  99.093  3.5059  19.414  1046.3  543.22  111.78  10.433   \n",
       "15036  7.2647  1006.3  99.496  3.4770  19.530  1037.7  537.32  110.19  10.483   \n",
       "15037  7.0060  1006.8  99.008  3.4486  19.377  1043.2  541.24  110.74  10.533   \n",
       "15038  6.9279  1007.2  97.533  3.4275  19.306  1049.9  545.85  111.58  10.583   \n",
       "\n",
       "           CO     NOX  \n",
       "0      3.1547  82.722  \n",
       "1      3.2363  82.776  \n",
       "2      3.2012  82.468  \n",
       "3      3.1923  82.670  \n",
       "4      3.2484  82.311  \n",
       "...       ...     ...  \n",
       "15034  4.5186  79.559  \n",
       "15035  4.8470  79.917  \n",
       "15036  7.9632  90.912  \n",
       "15037  6.2494  93.227  \n",
       "15038  4.9816  92.498  \n",
       "\n",
       "[15039 rows x 11 columns]"
      ]
     },
     "execution_count": 3,
     "metadata": {},
     "output_type": "execute_result"
    }
   ],
   "source": [
    "gf"
   ]
  },
  {
   "cell_type": "markdown",
   "id": "a9831822",
   "metadata": {},
   "source": [
    "## EDA"
   ]
  },
  {
   "cell_type": "code",
   "execution_count": 4,
   "id": "261812be",
   "metadata": {},
   "outputs": [
    {
     "data": {
      "text/plain": [
       "(15039, 11)"
      ]
     },
     "execution_count": 4,
     "metadata": {},
     "output_type": "execute_result"
    }
   ],
   "source": [
    "gf.shape"
   ]
  },
  {
   "cell_type": "code",
   "execution_count": 5,
   "id": "7f57f8be",
   "metadata": {},
   "outputs": [
    {
     "name": "stdout",
     "output_type": "stream",
     "text": [
      "<class 'pandas.core.frame.DataFrame'>\n",
      "RangeIndex: 15039 entries, 0 to 15038\n",
      "Data columns (total 11 columns):\n",
      " #   Column  Non-Null Count  Dtype  \n",
      "---  ------  --------------  -----  \n",
      " 0   AT      15039 non-null  float64\n",
      " 1   AP      15039 non-null  float64\n",
      " 2   AH      15039 non-null  float64\n",
      " 3   AFDP    15039 non-null  float64\n",
      " 4   GTEP    15039 non-null  float64\n",
      " 5   TIT     15039 non-null  float64\n",
      " 6   TAT     15039 non-null  float64\n",
      " 7   TEY     15039 non-null  float64\n",
      " 8   CDP     15039 non-null  float64\n",
      " 9   CO      15039 non-null  float64\n",
      " 10  NOX     15039 non-null  float64\n",
      "dtypes: float64(11)\n",
      "memory usage: 1.3 MB\n"
     ]
    }
   ],
   "source": [
    "gf.info()"
   ]
  },
  {
   "cell_type": "code",
   "execution_count": 6,
   "id": "a41b1201",
   "metadata": {},
   "outputs": [
    {
     "data": {
      "text/html": [
       "<div>\n",
       "<style scoped>\n",
       "    .dataframe tbody tr th:only-of-type {\n",
       "        vertical-align: middle;\n",
       "    }\n",
       "\n",
       "    .dataframe tbody tr th {\n",
       "        vertical-align: top;\n",
       "    }\n",
       "\n",
       "    .dataframe thead th {\n",
       "        text-align: right;\n",
       "    }\n",
       "</style>\n",
       "<table border=\"1\" class=\"dataframe\">\n",
       "  <thead>\n",
       "    <tr style=\"text-align: right;\">\n",
       "      <th></th>\n",
       "      <th>AT</th>\n",
       "      <th>AP</th>\n",
       "      <th>AH</th>\n",
       "      <th>AFDP</th>\n",
       "      <th>GTEP</th>\n",
       "      <th>TIT</th>\n",
       "      <th>TAT</th>\n",
       "      <th>TEY</th>\n",
       "      <th>CDP</th>\n",
       "      <th>CO</th>\n",
       "      <th>NOX</th>\n",
       "    </tr>\n",
       "  </thead>\n",
       "  <tbody>\n",
       "    <tr>\n",
       "      <th>count</th>\n",
       "      <td>15039.000000</td>\n",
       "      <td>15039.00000</td>\n",
       "      <td>15039.000000</td>\n",
       "      <td>15039.000000</td>\n",
       "      <td>15039.000000</td>\n",
       "      <td>15039.000000</td>\n",
       "      <td>15039.000000</td>\n",
       "      <td>15039.000000</td>\n",
       "      <td>15039.000000</td>\n",
       "      <td>15039.000000</td>\n",
       "      <td>15039.000000</td>\n",
       "    </tr>\n",
       "    <tr>\n",
       "      <th>mean</th>\n",
       "      <td>17.764381</td>\n",
       "      <td>1013.19924</td>\n",
       "      <td>79.124174</td>\n",
       "      <td>4.200294</td>\n",
       "      <td>25.419061</td>\n",
       "      <td>1083.798770</td>\n",
       "      <td>545.396183</td>\n",
       "      <td>134.188464</td>\n",
       "      <td>12.102353</td>\n",
       "      <td>1.972499</td>\n",
       "      <td>68.190934</td>\n",
       "    </tr>\n",
       "    <tr>\n",
       "      <th>std</th>\n",
       "      <td>7.574323</td>\n",
       "      <td>6.41076</td>\n",
       "      <td>13.793439</td>\n",
       "      <td>0.760197</td>\n",
       "      <td>4.173916</td>\n",
       "      <td>16.527806</td>\n",
       "      <td>7.866803</td>\n",
       "      <td>15.829717</td>\n",
       "      <td>1.103196</td>\n",
       "      <td>2.222206</td>\n",
       "      <td>10.470586</td>\n",
       "    </tr>\n",
       "    <tr>\n",
       "      <th>min</th>\n",
       "      <td>0.522300</td>\n",
       "      <td>985.85000</td>\n",
       "      <td>30.344000</td>\n",
       "      <td>2.087400</td>\n",
       "      <td>17.878000</td>\n",
       "      <td>1000.800000</td>\n",
       "      <td>512.450000</td>\n",
       "      <td>100.170000</td>\n",
       "      <td>9.904400</td>\n",
       "      <td>0.000388</td>\n",
       "      <td>27.765000</td>\n",
       "    </tr>\n",
       "    <tr>\n",
       "      <th>25%</th>\n",
       "      <td>11.408000</td>\n",
       "      <td>1008.90000</td>\n",
       "      <td>69.750000</td>\n",
       "      <td>3.723900</td>\n",
       "      <td>23.294000</td>\n",
       "      <td>1079.600000</td>\n",
       "      <td>542.170000</td>\n",
       "      <td>127.985000</td>\n",
       "      <td>11.622000</td>\n",
       "      <td>0.858055</td>\n",
       "      <td>61.303500</td>\n",
       "    </tr>\n",
       "    <tr>\n",
       "      <th>50%</th>\n",
       "      <td>18.186000</td>\n",
       "      <td>1012.80000</td>\n",
       "      <td>82.266000</td>\n",
       "      <td>4.186200</td>\n",
       "      <td>25.082000</td>\n",
       "      <td>1088.700000</td>\n",
       "      <td>549.890000</td>\n",
       "      <td>133.780000</td>\n",
       "      <td>12.025000</td>\n",
       "      <td>1.390200</td>\n",
       "      <td>66.601000</td>\n",
       "    </tr>\n",
       "    <tr>\n",
       "      <th>75%</th>\n",
       "      <td>23.862500</td>\n",
       "      <td>1016.90000</td>\n",
       "      <td>90.043500</td>\n",
       "      <td>4.550900</td>\n",
       "      <td>27.184000</td>\n",
       "      <td>1096.000000</td>\n",
       "      <td>550.060000</td>\n",
       "      <td>140.895000</td>\n",
       "      <td>12.578000</td>\n",
       "      <td>2.160400</td>\n",
       "      <td>73.935500</td>\n",
       "    </tr>\n",
       "    <tr>\n",
       "      <th>max</th>\n",
       "      <td>34.929000</td>\n",
       "      <td>1034.20000</td>\n",
       "      <td>100.200000</td>\n",
       "      <td>7.610600</td>\n",
       "      <td>37.402000</td>\n",
       "      <td>1100.800000</td>\n",
       "      <td>550.610000</td>\n",
       "      <td>174.610000</td>\n",
       "      <td>15.081000</td>\n",
       "      <td>44.103000</td>\n",
       "      <td>119.890000</td>\n",
       "    </tr>\n",
       "  </tbody>\n",
       "</table>\n",
       "</div>"
      ],
      "text/plain": [
       "                 AT           AP            AH          AFDP          GTEP  \\\n",
       "count  15039.000000  15039.00000  15039.000000  15039.000000  15039.000000   \n",
       "mean      17.764381   1013.19924     79.124174      4.200294     25.419061   \n",
       "std        7.574323      6.41076     13.793439      0.760197      4.173916   \n",
       "min        0.522300    985.85000     30.344000      2.087400     17.878000   \n",
       "25%       11.408000   1008.90000     69.750000      3.723900     23.294000   \n",
       "50%       18.186000   1012.80000     82.266000      4.186200     25.082000   \n",
       "75%       23.862500   1016.90000     90.043500      4.550900     27.184000   \n",
       "max       34.929000   1034.20000    100.200000      7.610600     37.402000   \n",
       "\n",
       "                TIT           TAT           TEY           CDP            CO  \\\n",
       "count  15039.000000  15039.000000  15039.000000  15039.000000  15039.000000   \n",
       "mean    1083.798770    545.396183    134.188464     12.102353      1.972499   \n",
       "std       16.527806      7.866803     15.829717      1.103196      2.222206   \n",
       "min     1000.800000    512.450000    100.170000      9.904400      0.000388   \n",
       "25%     1079.600000    542.170000    127.985000     11.622000      0.858055   \n",
       "50%     1088.700000    549.890000    133.780000     12.025000      1.390200   \n",
       "75%     1096.000000    550.060000    140.895000     12.578000      2.160400   \n",
       "max     1100.800000    550.610000    174.610000     15.081000     44.103000   \n",
       "\n",
       "                NOX  \n",
       "count  15039.000000  \n",
       "mean      68.190934  \n",
       "std       10.470586  \n",
       "min       27.765000  \n",
       "25%       61.303500  \n",
       "50%       66.601000  \n",
       "75%       73.935500  \n",
       "max      119.890000  "
      ]
     },
     "execution_count": 6,
     "metadata": {},
     "output_type": "execute_result"
    }
   ],
   "source": [
    "gf.describe()"
   ]
  },
  {
   "cell_type": "code",
   "execution_count": 7,
   "id": "3434dca1",
   "metadata": {},
   "outputs": [],
   "source": [
    "df = gf.copy() \n",
    "df = df.drop(['AFDP','GTEP','TIT','TAT','CDP','CO','NOX'],axis=1)\n"
   ]
  },
  {
   "cell_type": "code",
   "execution_count": 9,
   "id": "754a9f3e",
   "metadata": {},
   "outputs": [
    {
     "data": {
      "text/html": [
       "<div>\n",
       "<style scoped>\n",
       "    .dataframe tbody tr th:only-of-type {\n",
       "        vertical-align: middle;\n",
       "    }\n",
       "\n",
       "    .dataframe tbody tr th {\n",
       "        vertical-align: top;\n",
       "    }\n",
       "\n",
       "    .dataframe thead th {\n",
       "        text-align: right;\n",
       "    }\n",
       "</style>\n",
       "<table border=\"1\" class=\"dataframe\">\n",
       "  <thead>\n",
       "    <tr style=\"text-align: right;\">\n",
       "      <th></th>\n",
       "      <th>AT</th>\n",
       "      <th>AP</th>\n",
       "      <th>AH</th>\n",
       "      <th>TEY</th>\n",
       "    </tr>\n",
       "  </thead>\n",
       "  <tbody>\n",
       "    <tr>\n",
       "      <th>0</th>\n",
       "      <td>6.8594</td>\n",
       "      <td>1007.9</td>\n",
       "      <td>96.799</td>\n",
       "      <td>114.70</td>\n",
       "    </tr>\n",
       "    <tr>\n",
       "      <th>1</th>\n",
       "      <td>6.7850</td>\n",
       "      <td>1008.4</td>\n",
       "      <td>97.118</td>\n",
       "      <td>114.72</td>\n",
       "    </tr>\n",
       "    <tr>\n",
       "      <th>2</th>\n",
       "      <td>6.8977</td>\n",
       "      <td>1008.8</td>\n",
       "      <td>95.939</td>\n",
       "      <td>114.71</td>\n",
       "    </tr>\n",
       "    <tr>\n",
       "      <th>3</th>\n",
       "      <td>7.0569</td>\n",
       "      <td>1009.2</td>\n",
       "      <td>95.249</td>\n",
       "      <td>114.72</td>\n",
       "    </tr>\n",
       "    <tr>\n",
       "      <th>4</th>\n",
       "      <td>7.3978</td>\n",
       "      <td>1009.7</td>\n",
       "      <td>95.150</td>\n",
       "      <td>114.72</td>\n",
       "    </tr>\n",
       "  </tbody>\n",
       "</table>\n",
       "</div>"
      ],
      "text/plain": [
       "       AT      AP      AH     TEY\n",
       "0  6.8594  1007.9  96.799  114.70\n",
       "1  6.7850  1008.4  97.118  114.72\n",
       "2  6.8977  1008.8  95.939  114.71\n",
       "3  7.0569  1009.2  95.249  114.72\n",
       "4  7.3978  1009.7  95.150  114.72"
      ]
     },
     "execution_count": 9,
     "metadata": {},
     "output_type": "execute_result"
    }
   ],
   "source": [
    "df.head()"
   ]
  },
  {
   "cell_type": "code",
   "execution_count": 10,
   "id": "0e01c853",
   "metadata": {},
   "outputs": [
    {
     "data": {
      "text/plain": [
       "AT     0\n",
       "AP     0\n",
       "AH     0\n",
       "TEY    0\n",
       "dtype: int64"
      ]
     },
     "execution_count": 10,
     "metadata": {},
     "output_type": "execute_result"
    }
   ],
   "source": [
    "df.isnull().sum()"
   ]
  },
  {
   "cell_type": "markdown",
   "id": "0bafaeef",
   "metadata": {},
   "source": [
    "## visualization data"
   ]
  },
  {
   "cell_type": "code",
   "execution_count": 11,
   "id": "7dcad2a0",
   "metadata": {},
   "outputs": [
    {
     "name": "stderr",
     "output_type": "stream",
     "text": [
      "C:\\Users\\DELL\\anaconda3\\lib\\site-packages\\seaborn\\distributions.py:2619: FutureWarning: `distplot` is a deprecated function and will be removed in a future version. Please adapt your code to use either `displot` (a figure-level function with similar flexibility) or `histplot` (an axes-level function for histograms).\n",
      "  warnings.warn(msg, FutureWarning)\n"
     ]
    },
    {
     "data": {
      "text/plain": [
       "<AxesSubplot:xlabel='AT', ylabel='Density'>"
      ]
     },
     "execution_count": 11,
     "metadata": {},
     "output_type": "execute_result"
    },
    {
     "data": {
      "image/png": "[encoded data removed]",
      "text/plain": [
       "<Figure size 432x288 with 1 Axes>"
      ]
     },
     "metadata": {
      "needs_background": "light"
     },
     "output_type": "display_data"
    }
   ],
   "source": [
    "sns.distplot(df[\"AT\"])"
   ]
  },
  {
   "cell_type": "code",
   "execution_count": 12,
   "id": "1570d1a1",
   "metadata": {},
   "outputs": [
    {
     "name": "stderr",
     "output_type": "stream",
     "text": [
      "C:\\Users\\DELL\\anaconda3\\lib\\site-packages\\seaborn\\distributions.py:2619: FutureWarning: `distplot` is a deprecated function and will be removed in a future version. Please adapt your code to use either `displot` (a figure-level function with similar flexibility) or `histplot` (an axes-level function for histograms).\n",
      "  warnings.warn(msg, FutureWarning)\n"
     ]
    },
    {
     "data": {
      "text/plain": [
       "<AxesSubplot:xlabel='AP', ylabel='Density'>"
      ]
     },
     "execution_count": 12,
     "metadata": {},
     "output_type": "execute_result"
    },
    {
     "data": {
      "image/png": "[encoded data removed]",
      "text/plain": [
       "<Figure size 432x288 with 1 Axes>"
      ]
     },
     "metadata": {
      "needs_background": "light"
     },
     "output_type": "display_data"
    }
   ],
   "source": [
    "sns.distplot(df[\"AP\"])"
   ]
  },
  {
   "cell_type": "code",
   "execution_count": 13,
   "id": "fb576de5",
   "metadata": {},
   "outputs": [
    {
     "name": "stderr",
     "output_type": "stream",
     "text": [
      "C:\\Users\\DELL\\anaconda3\\lib\\site-packages\\seaborn\\distributions.py:2619: FutureWarning: `distplot` is a deprecated function and will be removed in a future version. Please adapt your code to use either `displot` (a figure-level function with similar flexibility) or `histplot` (an axes-level function for histograms).\n",
      "  warnings.warn(msg, FutureWarning)\n"
     ]
    },
    {
     "data": {
      "text/plain": [
       "<AxesSubplot:xlabel='AH', ylabel='Density'>"
      ]
     },
     "execution_count": 13,
     "metadata": {},
     "output_type": "execute_result"
    },
    {
     "data": {
      "image/png": "[encoded data removed]",
      "text/plain": [
       "<Figure size 432x288 with 1 Axes>"
      ]
     },
     "metadata": {
      "needs_background": "light"
     },
     "output_type": "display_data"
    }
   ],
   "source": [
    "sns.distplot(df['AH'])"
   ]
  },
  {
   "cell_type": "markdown",
   "id": "12cff6fc",
   "metadata": {},
   "source": [
    "## feature Analysis"
   ]
  },
  {
   "cell_type": "code",
   "execution_count": 14,
   "id": "46e5165b",
   "metadata": {},
   "outputs": [],
   "source": [
    "X =df.iloc[:,:-1]\n",
    "Y = df.iloc[:,-1]"
   ]
  },
  {
   "cell_type": "code",
   "execution_count": 15,
   "id": "a0e314f7",
   "metadata": {},
   "outputs": [
    {
     "data": {
      "text/html": [
       "<div>\n",
       "<style scoped>\n",
       "    .dataframe tbody tr th:only-of-type {\n",
       "        vertical-align: middle;\n",
       "    }\n",
       "\n",
       "    .dataframe tbody tr th {\n",
       "        vertical-align: top;\n",
       "    }\n",
       "\n",
       "    .dataframe thead th {\n",
       "        text-align: right;\n",
       "    }\n",
       "</style>\n",
       "<table border=\"1\" class=\"dataframe\">\n",
       "  <thead>\n",
       "    <tr style=\"text-align: right;\">\n",
       "      <th></th>\n",
       "      <th>AT</th>\n",
       "      <th>AP</th>\n",
       "      <th>AH</th>\n",
       "    </tr>\n",
       "  </thead>\n",
       "  <tbody>\n",
       "    <tr>\n",
       "      <th>0</th>\n",
       "      <td>6.8594</td>\n",
       "      <td>1007.9</td>\n",
       "      <td>96.799</td>\n",
       "    </tr>\n",
       "    <tr>\n",
       "      <th>1</th>\n",
       "      <td>6.7850</td>\n",
       "      <td>1008.4</td>\n",
       "      <td>97.118</td>\n",
       "    </tr>\n",
       "    <tr>\n",
       "      <th>2</th>\n",
       "      <td>6.8977</td>\n",
       "      <td>1008.8</td>\n",
       "      <td>95.939</td>\n",
       "    </tr>\n",
       "    <tr>\n",
       "      <th>3</th>\n",
       "      <td>7.0569</td>\n",
       "      <td>1009.2</td>\n",
       "      <td>95.249</td>\n",
       "    </tr>\n",
       "    <tr>\n",
       "      <th>4</th>\n",
       "      <td>7.3978</td>\n",
       "      <td>1009.7</td>\n",
       "      <td>95.150</td>\n",
       "    </tr>\n",
       "    <tr>\n",
       "      <th>...</th>\n",
       "      <td>...</td>\n",
       "      <td>...</td>\n",
       "      <td>...</td>\n",
       "    </tr>\n",
       "    <tr>\n",
       "      <th>15034</th>\n",
       "      <td>9.0301</td>\n",
       "      <td>1005.6</td>\n",
       "      <td>98.460</td>\n",
       "    </tr>\n",
       "    <tr>\n",
       "      <th>15035</th>\n",
       "      <td>7.8879</td>\n",
       "      <td>1005.9</td>\n",
       "      <td>99.093</td>\n",
       "    </tr>\n",
       "    <tr>\n",
       "      <th>15036</th>\n",
       "      <td>7.2647</td>\n",
       "      <td>1006.3</td>\n",
       "      <td>99.496</td>\n",
       "    </tr>\n",
       "    <tr>\n",
       "      <th>15037</th>\n",
       "      <td>7.0060</td>\n",
       "      <td>1006.8</td>\n",
       "      <td>99.008</td>\n",
       "    </tr>\n",
       "    <tr>\n",
       "      <th>15038</th>\n",
       "      <td>6.9279</td>\n",
       "      <td>1007.2</td>\n",
       "      <td>97.533</td>\n",
       "    </tr>\n",
       "  </tbody>\n",
       "</table>\n",
       "<p>15039 rows × 3 columns</p>\n",
       "</div>"
      ],
      "text/plain": [
       "           AT      AP      AH\n",
       "0      6.8594  1007.9  96.799\n",
       "1      6.7850  1008.4  97.118\n",
       "2      6.8977  1008.8  95.939\n",
       "3      7.0569  1009.2  95.249\n",
       "4      7.3978  1009.7  95.150\n",
       "...       ...     ...     ...\n",
       "15034  9.0301  1005.6  98.460\n",
       "15035  7.8879  1005.9  99.093\n",
       "15036  7.2647  1006.3  99.496\n",
       "15037  7.0060  1006.8  99.008\n",
       "15038  6.9279  1007.2  97.533\n",
       "\n",
       "[15039 rows x 3 columns]"
      ]
     },
     "execution_count": 15,
     "metadata": {},
     "output_type": "execute_result"
    }
   ],
   "source": [
    "X"
   ]
  },
  {
   "cell_type": "code",
   "execution_count": 16,
   "id": "dfe77227",
   "metadata": {},
   "outputs": [
    {
     "data": {
      "text/plain": [
       "0        114.70\n",
       "1        114.72\n",
       "2        114.71\n",
       "3        114.72\n",
       "4        114.72\n",
       "          ...  \n",
       "15034    111.61\n",
       "15035    111.78\n",
       "15036    110.19\n",
       "15037    110.74\n",
       "15038    111.58\n",
       "Name: TEY, Length: 15039, dtype: float64"
      ]
     },
     "execution_count": 16,
     "metadata": {},
     "output_type": "execute_result"
    }
   ],
   "source": [
    "Y"
   ]
  },
  {
   "cell_type": "code",
   "execution_count": 17,
   "id": "9b6ded5d",
   "metadata": {},
   "outputs": [],
   "source": [
    "## spliting train and test dataset\n",
    "X_train, X_test, y_train, y_test = train_test_split(X,Y, test_size = 0.3)"
   ]
  },
  {
   "cell_type": "code",
   "execution_count": 18,
   "id": "88296bc2",
   "metadata": {},
   "outputs": [],
   "source": [
    "y_train=np.reshape(y_train.to_numpy(), (-1,1)) \n",
    "y_test=np.reshape(y_test.to_numpy(), (-1,1)) "
   ]
  },
  {
   "cell_type": "code",
   "execution_count": 19,
   "id": "7ac813cb",
   "metadata": {},
   "outputs": [
    {
     "data": {
      "text/plain": [
       "array([[158.59],\n",
       "       [134.89],\n",
       "       [135.54],\n",
       "       ...,\n",
       "       [158.26],\n",
       "       [139.82],\n",
       "       [134.75]])"
      ]
     },
     "execution_count": 19,
     "metadata": {},
     "output_type": "execute_result"
    }
   ],
   "source": [
    "y_train"
   ]
  },
  {
   "cell_type": "code",
   "execution_count": 20,
   "id": "6e947ce1",
   "metadata": {},
   "outputs": [
    {
     "data": {
      "text/plain": [
       "array([[133.38],\n",
       "       [133.81],\n",
       "       [149.05],\n",
       "       ...,\n",
       "       [162.05],\n",
       "       [133.09],\n",
       "       [162.34]])"
      ]
     },
     "execution_count": 20,
     "metadata": {},
     "output_type": "execute_result"
    }
   ],
   "source": [
    "y_test"
   ]
  },
  {
   "cell_type": "markdown",
   "id": "d5f0eef6",
   "metadata": {},
   "source": [
    "## Minmax Scalar"
   ]
  },
  {
   "cell_type": "code",
   "execution_count": 21,
   "id": "b41c51e0",
   "metadata": {},
   "outputs": [],
   "source": [
    "from sklearn.preprocessing import MinMaxScaler\n"
   ]
  },
  {
   "cell_type": "code",
   "execution_count": 22,
   "id": "c7a37116",
   "metadata": {},
   "outputs": [],
   "source": [
    "scaler_x = MinMaxScaler()\n",
    "scaler_y = MinMaxScaler()"
   ]
  },
  {
   "cell_type": "code",
   "execution_count": 23,
   "id": "3eefbe8a",
   "metadata": {},
   "outputs": [
    {
     "name": "stdout",
     "output_type": "stream",
     "text": [
      "MinMaxScaler()\n",
      "MinMaxScaler()\n"
     ]
    }
   ],
   "source": [
    "print(scaler_x.fit(X_train))\n",
    "xtrain_scale=scaler_x.transform(X_train)\n",
    "\n",
    "print(scaler_x.fit(X_test))\n",
    "xtest_scale=scaler_x.transform(X_test)"
   ]
  },
  {
   "cell_type": "code",
   "execution_count": 24,
   "id": "8c753cfc",
   "metadata": {},
   "outputs": [
    {
     "name": "stdout",
     "output_type": "stream",
     "text": [
      "MinMaxScaler()\n",
      "MinMaxScaler()\n"
     ]
    }
   ],
   "source": [
    "print(scaler_y.fit(y_train))\n",
    "ytrain_scale=scaler_y.transform(y_train)\n",
    "\n",
    "print(scaler_y.fit(y_test))\n",
    "ytest_scale=scaler_y.transform(y_test)"
   ]
  },
  {
   "cell_type": "code",
   "execution_count": 25,
   "id": "5d6525eb",
   "metadata": {},
   "outputs": [
    {
     "data": {
      "text/plain": [
       "10527"
      ]
     },
     "execution_count": 25,
     "metadata": {},
     "output_type": "execute_result"
    }
   ],
   "source": [
    "len(xtrain_scale)"
   ]
  },
  {
   "cell_type": "markdown",
   "id": "d5c34d5f",
   "metadata": {},
   "source": [
    "## Neural Network Model Building"
   ]
  },
  {
   "cell_type": "code",
   "execution_count": 26,
   "id": "5de96d2b",
   "metadata": {},
   "outputs": [],
   "source": [
    "import keras \n",
    "from keras.models import Sequential\n",
    "from keras.layers import Dense"
   ]
  },
  {
   "cell_type": "code",
   "execution_count": 27,
   "id": "17c60f86",
   "metadata": {},
   "outputs": [
    {
     "name": "stdout",
     "output_type": "stream",
     "text": [
      "Epoch 1/100\n",
      "48/48 [==============================] - 3s 22ms/step - loss: 0.0734 - mse: 0.0734 - mae: 0.2096 - val_loss: 0.0463 - val_mse: 0.0463 - val_mae: 0.1548\n",
      "Epoch 2/100\n",
      "48/48 [==============================] - 0s 8ms/step - loss: 0.0469 - mse: 0.0469 - mae: 0.1554 - val_loss: 0.0451 - val_mse: 0.0451 - val_mae: 0.1489\n",
      "Epoch 3/100\n",
      "48/48 [==============================] - 0s 8ms/step - loss: 0.0460 - mse: 0.0460 - mae: 0.1537 - val_loss: 0.0453 - val_mse: 0.0453 - val_mae: 0.1574\n",
      "Epoch 4/100\n",
      "48/48 [==============================] - 0s 8ms/step - loss: 0.0457 - mse: 0.0457 - mae: 0.1557 - val_loss: 0.0439 - val_mse: 0.0439 - val_mae: 0.1472\n",
      "Epoch 5/100\n",
      "48/48 [==============================] - 0s 8ms/step - loss: 0.0448 - mse: 0.0448 - mae: 0.1532 - val_loss: 0.0431 - val_mse: 0.0431 - val_mae: 0.1478\n",
      "Epoch 6/100\n",
      "48/48 [==============================] - 0s 8ms/step - loss: 0.0443 - mse: 0.0443 - mae: 0.1557 - val_loss: 0.0422 - val_mse: 0.0422 - val_mae: 0.1496\n",
      "Epoch 7/100\n",
      "48/48 [==============================] - 0s 8ms/step - loss: 0.0428 - mse: 0.0428 - mae: 0.1559 - val_loss: 0.0409 - val_mse: 0.0409 - val_mae: 0.1530\n",
      "Epoch 8/100\n",
      "48/48 [==============================] - 0s 7ms/step - loss: 0.0415 - mse: 0.0415 - mae: 0.1578 - val_loss: 0.0399 - val_mse: 0.0399 - val_mae: 0.1544\n",
      "Epoch 9/100\n",
      "48/48 [==============================] - 0s 7ms/step - loss: 0.0405 - mse: 0.0405 - mae: 0.1581 - val_loss: 0.0393 - val_mse: 0.0393 - val_mae: 0.1549\n",
      "Epoch 10/100\n",
      "48/48 [==============================] - 0s 7ms/step - loss: 0.0401 - mse: 0.0401 - mae: 0.1589 - val_loss: 0.0395 - val_mse: 0.0395 - val_mae: 0.1576\n",
      "Epoch 11/100\n",
      "48/48 [==============================] - 0s 8ms/step - loss: 0.0406 - mse: 0.0406 - mae: 0.1606 - val_loss: 0.0402 - val_mse: 0.0402 - val_mae: 0.1607\n",
      "Epoch 12/100\n",
      "48/48 [==============================] - 0s 8ms/step - loss: 0.0402 - mse: 0.0402 - mae: 0.1597 - val_loss: 0.0394 - val_mse: 0.0394 - val_mae: 0.1570\n",
      "Epoch 13/100\n",
      "48/48 [==============================] - 1s 11ms/step - loss: 0.0399 - mse: 0.0399 - mae: 0.1593 - val_loss: 0.0400 - val_mse: 0.0400 - val_mae: 0.1607\n",
      "Epoch 14/100\n",
      "48/48 [==============================] - 0s 7ms/step - loss: 0.0401 - mse: 0.0401 - mae: 0.1600 - val_loss: 0.0392 - val_mse: 0.0392 - val_mae: 0.1582\n",
      "Epoch 15/100\n",
      "48/48 [==============================] - 0s 7ms/step - loss: 0.0400 - mse: 0.0400 - mae: 0.1605 - val_loss: 0.0389 - val_mse: 0.0389 - val_mae: 0.1558\n",
      "Epoch 16/100\n",
      "48/48 [==============================] - 0s 8ms/step - loss: 0.0398 - mse: 0.0398 - mae: 0.1595 - val_loss: 0.0394 - val_mse: 0.0394 - val_mae: 0.1566\n",
      "Epoch 17/100\n",
      "48/48 [==============================] - 0s 8ms/step - loss: 0.0396 - mse: 0.0396 - mae: 0.1599 - val_loss: 0.0388 - val_mse: 0.0388 - val_mae: 0.1563\n",
      "Epoch 18/100\n",
      "48/48 [==============================] - 0s 7ms/step - loss: 0.0401 - mse: 0.0401 - mae: 0.1606 - val_loss: 0.0395 - val_mse: 0.0395 - val_mae: 0.1591\n",
      "Epoch 19/100\n",
      "48/48 [==============================] - 0s 8ms/step - loss: 0.0401 - mse: 0.0401 - mae: 0.1602 - val_loss: 0.0389 - val_mse: 0.0389 - val_mae: 0.1576\n",
      "Epoch 20/100\n",
      "48/48 [==============================] - 0s 7ms/step - loss: 0.0396 - mse: 0.0396 - mae: 0.1603 - val_loss: 0.0393 - val_mse: 0.0393 - val_mae: 0.1571\n",
      "Epoch 21/100\n",
      "48/48 [==============================] - 0s 8ms/step - loss: 0.0395 - mse: 0.0395 - mae: 0.1597 - val_loss: 0.0388 - val_mse: 0.0388 - val_mae: 0.1569\n",
      "Epoch 22/100\n",
      "48/48 [==============================] - 0s 7ms/step - loss: 0.0400 - mse: 0.0400 - mae: 0.1608 - val_loss: 0.0453 - val_mse: 0.0453 - val_mae: 0.1707\n",
      "Epoch 23/100\n",
      "48/48 [==============================] - 0s 7ms/step - loss: 0.0412 - mse: 0.0412 - mae: 0.1627 - val_loss: 0.0392 - val_mse: 0.0392 - val_mae: 0.1585\n",
      "Epoch 24/100\n",
      "48/48 [==============================] - 0s 8ms/step - loss: 0.0398 - mse: 0.0398 - mae: 0.1595 - val_loss: 0.0387 - val_mse: 0.0387 - val_mae: 0.1571\n",
      "Epoch 25/100\n",
      "48/48 [==============================] - 0s 9ms/step - loss: 0.0396 - mse: 0.0396 - mae: 0.1590 - val_loss: 0.0426 - val_mse: 0.0426 - val_mae: 0.1650\n",
      "Epoch 26/100\n",
      "48/48 [==============================] - 0s 8ms/step - loss: 0.0415 - mse: 0.0415 - mae: 0.1628 - val_loss: 0.0387 - val_mse: 0.0387 - val_mae: 0.1552\n",
      "Epoch 27/100\n",
      "48/48 [==============================] - 0s 7ms/step - loss: 0.0394 - mse: 0.0394 - mae: 0.1597 - val_loss: 0.0388 - val_mse: 0.0388 - val_mae: 0.1574\n",
      "Epoch 28/100\n",
      "48/48 [==============================] - 0s 8ms/step - loss: 0.0393 - mse: 0.0393 - mae: 0.1597 - val_loss: 0.0405 - val_mse: 0.0405 - val_mae: 0.1603\n",
      "Epoch 29/100\n",
      "48/48 [==============================] - 0s 8ms/step - loss: 0.0400 - mse: 0.0400 - mae: 0.1615 - val_loss: 0.0386 - val_mse: 0.0386 - val_mae: 0.1563\n",
      "Epoch 30/100\n",
      "48/48 [==============================] - 0s 7ms/step - loss: 0.0395 - mse: 0.0395 - mae: 0.1597 - val_loss: 0.0386 - val_mse: 0.0386 - val_mae: 0.1563\n",
      "Epoch 31/100\n",
      "48/48 [==============================] - 0s 7ms/step - loss: 0.0393 - mse: 0.0393 - mae: 0.1591 - val_loss: 0.0387 - val_mse: 0.0387 - val_mae: 0.1564\n",
      "Epoch 32/100\n",
      "48/48 [==============================] - 0s 7ms/step - loss: 0.0395 - mse: 0.0395 - mae: 0.1600 - val_loss: 0.0389 - val_mse: 0.0389 - val_mae: 0.1577\n",
      "Epoch 33/100\n",
      "48/48 [==============================] - 0s 7ms/step - loss: 0.0397 - mse: 0.0397 - mae: 0.1610 - val_loss: 0.0387 - val_mse: 0.0387 - val_mae: 0.1558\n",
      "Epoch 34/100\n",
      "48/48 [==============================] - 0s 7ms/step - loss: 0.0395 - mse: 0.0395 - mae: 0.1599 - val_loss: 0.0386 - val_mse: 0.0386 - val_mae: 0.1561\n",
      "Epoch 35/100\n",
      "48/48 [==============================] - 0s 7ms/step - loss: 0.0398 - mse: 0.0398 - mae: 0.1606 - val_loss: 0.0387 - val_mse: 0.0387 - val_mae: 0.1558\n",
      "Epoch 36/100\n",
      "48/48 [==============================] - 0s 8ms/step - loss: 0.0395 - mse: 0.0395 - mae: 0.1597 - val_loss: 0.0396 - val_mse: 0.0396 - val_mae: 0.1603\n",
      "Epoch 37/100\n",
      "48/48 [==============================] - 0s 8ms/step - loss: 0.0397 - mse: 0.0397 - mae: 0.1606 - val_loss: 0.0388 - val_mse: 0.0388 - val_mae: 0.1574\n",
      "Epoch 38/100\n",
      "48/48 [==============================] - 0s 8ms/step - loss: 0.0395 - mse: 0.0395 - mae: 0.1598 - val_loss: 0.0385 - val_mse: 0.0385 - val_mae: 0.1548\n",
      "Epoch 39/100\n",
      "48/48 [==============================] - 0s 7ms/step - loss: 0.0395 - mse: 0.0395 - mae: 0.1595 - val_loss: 0.0385 - val_mse: 0.0385 - val_mae: 0.1559\n",
      "Epoch 40/100\n",
      "48/48 [==============================] - 0s 7ms/step - loss: 0.0396 - mse: 0.0396 - mae: 0.1590 - val_loss: 0.0385 - val_mse: 0.0385 - val_mae: 0.1557\n",
      "Epoch 41/100\n",
      "48/48 [==============================] - 0s 7ms/step - loss: 0.0392 - mse: 0.0392 - mae: 0.1591 - val_loss: 0.0386 - val_mse: 0.0386 - val_mae: 0.1565\n",
      "Epoch 42/100\n",
      "48/48 [==============================] - 0s 7ms/step - loss: 0.0393 - mse: 0.0393 - mae: 0.1599 - val_loss: 0.0392 - val_mse: 0.0392 - val_mae: 0.1587\n",
      "Epoch 43/100\n",
      "48/48 [==============================] - 0s 7ms/step - loss: 0.0394 - mse: 0.0394 - mae: 0.1590 - val_loss: 0.0391 - val_mse: 0.0391 - val_mae: 0.1574\n",
      "Epoch 44/100\n",
      "48/48 [==============================] - 0s 7ms/step - loss: 0.0394 - mse: 0.0394 - mae: 0.1594 - val_loss: 0.0386 - val_mse: 0.0386 - val_mae: 0.1565\n",
      "Epoch 45/100\n",
      "48/48 [==============================] - 0s 8ms/step - loss: 0.0393 - mse: 0.0393 - mae: 0.1590 - val_loss: 0.0395 - val_mse: 0.0395 - val_mae: 0.1592\n",
      "Epoch 46/100\n",
      "48/48 [==============================] - 0s 9ms/step - loss: 0.0401 - mse: 0.0401 - mae: 0.1608 - val_loss: 0.0384 - val_mse: 0.0384 - val_mae: 0.1555\n",
      "Epoch 47/100\n",
      "48/48 [==============================] - 0s 7ms/step - loss: 0.0392 - mse: 0.0392 - mae: 0.1588 - val_loss: 0.0383 - val_mse: 0.0383 - val_mae: 0.1557\n",
      "Epoch 48/100\n",
      "48/48 [==============================] - 0s 7ms/step - loss: 0.0393 - mse: 0.0393 - mae: 0.1593 - val_loss: 0.0397 - val_mse: 0.0397 - val_mae: 0.1586\n",
      "Epoch 49/100\n",
      "48/48 [==============================] - 0s 8ms/step - loss: 0.0393 - mse: 0.0393 - mae: 0.1587 - val_loss: 0.0390 - val_mse: 0.0390 - val_mae: 0.1567\n",
      "Epoch 50/100\n",
      "48/48 [==============================] - 0s 8ms/step - loss: 0.0397 - mse: 0.0397 - mae: 0.1597 - val_loss: 0.0386 - val_mse: 0.0386 - val_mae: 0.1559\n"
     ]
    },
    {
     "name": "stdout",
     "output_type": "stream",
     "text": [
      "Epoch 51/100\n",
      "48/48 [==============================] - 0s 7ms/step - loss: 0.0392 - mse: 0.0392 - mae: 0.1591 - val_loss: 0.0386 - val_mse: 0.0386 - val_mae: 0.1553\n",
      "Epoch 52/100\n",
      "48/48 [==============================] - 0s 8ms/step - loss: 0.0395 - mse: 0.0395 - mae: 0.1590 - val_loss: 0.0386 - val_mse: 0.0386 - val_mae: 0.1553\n",
      "Epoch 53/100\n",
      "48/48 [==============================] - 0s 8ms/step - loss: 0.0391 - mse: 0.0391 - mae: 0.1583 - val_loss: 0.0387 - val_mse: 0.0387 - val_mae: 0.1568\n",
      "Epoch 54/100\n",
      "48/48 [==============================] - 0s 7ms/step - loss: 0.0395 - mse: 0.0395 - mae: 0.1602 - val_loss: 0.0390 - val_mse: 0.0390 - val_mae: 0.1583\n",
      "Epoch 55/100\n",
      "48/48 [==============================] - 0s 7ms/step - loss: 0.0398 - mse: 0.0398 - mae: 0.1594 - val_loss: 0.0395 - val_mse: 0.0395 - val_mae: 0.1597\n",
      "Epoch 56/100\n",
      "48/48 [==============================] - 0s 7ms/step - loss: 0.0393 - mse: 0.0393 - mae: 0.1594 - val_loss: 0.0382 - val_mse: 0.0382 - val_mae: 0.1548\n",
      "Epoch 57/100\n",
      "48/48 [==============================] - 0s 8ms/step - loss: 0.0389 - mse: 0.0389 - mae: 0.1579 - val_loss: 0.0384 - val_mse: 0.0384 - val_mae: 0.1564\n",
      "Epoch 58/100\n",
      "48/48 [==============================] - 0s 8ms/step - loss: 0.0394 - mse: 0.0394 - mae: 0.1589 - val_loss: 0.0382 - val_mse: 0.0382 - val_mae: 0.1548\n",
      "Epoch 59/100\n",
      "48/48 [==============================] - 0s 8ms/step - loss: 0.0390 - mse: 0.0390 - mae: 0.1577 - val_loss: 0.0383 - val_mse: 0.0383 - val_mae: 0.1551\n",
      "Epoch 60/100\n",
      "48/48 [==============================] - 0s 7ms/step - loss: 0.0394 - mse: 0.0394 - mae: 0.1594 - val_loss: 0.0388 - val_mse: 0.0388 - val_mae: 0.1581\n",
      "Epoch 61/100\n",
      "48/48 [==============================] - 0s 8ms/step - loss: 0.0393 - mse: 0.0393 - mae: 0.1590 - val_loss: 0.0382 - val_mse: 0.0382 - val_mae: 0.1553\n",
      "Epoch 62/100\n",
      "48/48 [==============================] - 0s 7ms/step - loss: 0.0390 - mse: 0.0390 - mae: 0.1579 - val_loss: 0.0407 - val_mse: 0.0407 - val_mae: 0.1608\n",
      "Epoch 63/100\n",
      "48/48 [==============================] - 0s 8ms/step - loss: 0.0395 - mse: 0.0395 - mae: 0.1598 - val_loss: 0.0386 - val_mse: 0.0386 - val_mae: 0.1563\n",
      "Epoch 64/100\n",
      "48/48 [==============================] - 0s 8ms/step - loss: 0.0392 - mse: 0.0392 - mae: 0.1588 - val_loss: 0.0386 - val_mse: 0.0386 - val_mae: 0.1563\n",
      "Epoch 65/100\n",
      "48/48 [==============================] - 0s 8ms/step - loss: 0.0388 - mse: 0.0388 - mae: 0.1576 - val_loss: 0.0381 - val_mse: 0.0381 - val_mae: 0.1555\n",
      "Epoch 66/100\n",
      "48/48 [==============================] - 0s 8ms/step - loss: 0.0389 - mse: 0.0389 - mae: 0.1584 - val_loss: 0.0382 - val_mse: 0.0382 - val_mae: 0.1557\n",
      "Epoch 67/100\n",
      "48/48 [==============================] - 0s 8ms/step - loss: 0.0388 - mse: 0.0388 - mae: 0.1582 - val_loss: 0.0409 - val_mse: 0.0409 - val_mae: 0.1628\n",
      "Epoch 68/100\n",
      "48/48 [==============================] - 0s 7ms/step - loss: 0.0404 - mse: 0.0404 - mae: 0.1610 - val_loss: 0.0381 - val_mse: 0.0381 - val_mae: 0.1545\n",
      "Epoch 69/100\n",
      "48/48 [==============================] - 0s 7ms/step - loss: 0.0391 - mse: 0.0391 - mae: 0.1582 - val_loss: 0.0387 - val_mse: 0.0387 - val_mae: 0.1569\n",
      "Epoch 70/100\n",
      "48/48 [==============================] - 0s 7ms/step - loss: 0.0392 - mse: 0.0392 - mae: 0.1587 - val_loss: 0.0385 - val_mse: 0.0385 - val_mae: 0.1571\n",
      "Epoch 71/100\n",
      "48/48 [==============================] - 0s 7ms/step - loss: 0.0392 - mse: 0.0392 - mae: 0.1589 - val_loss: 0.0380 - val_mse: 0.0380 - val_mae: 0.1542\n",
      "Epoch 72/100\n",
      "48/48 [==============================] - 0s 7ms/step - loss: 0.0395 - mse: 0.0395 - mae: 0.1584 - val_loss: 0.0382 - val_mse: 0.0382 - val_mae: 0.1551\n",
      "Epoch 73/100\n",
      "48/48 [==============================] - 0s 7ms/step - loss: 0.0394 - mse: 0.0394 - mae: 0.1586 - val_loss: 0.0380 - val_mse: 0.0380 - val_mae: 0.1549\n",
      "Epoch 74/100\n",
      "48/48 [==============================] - 0s 7ms/step - loss: 0.0391 - mse: 0.0391 - mae: 0.1587 - val_loss: 0.0383 - val_mse: 0.0383 - val_mae: 0.1552\n",
      "Epoch 75/100\n",
      "48/48 [==============================] - 0s 7ms/step - loss: 0.0393 - mse: 0.0393 - mae: 0.1595 - val_loss: 0.0381 - val_mse: 0.0381 - val_mae: 0.1550\n",
      "Epoch 76/100\n",
      "48/48 [==============================] - 0s 7ms/step - loss: 0.0388 - mse: 0.0388 - mae: 0.1580 - val_loss: 0.0380 - val_mse: 0.0380 - val_mae: 0.1552\n",
      "Epoch 77/100\n",
      "48/48 [==============================] - 0s 7ms/step - loss: 0.0391 - mse: 0.0391 - mae: 0.1586 - val_loss: 0.0380 - val_mse: 0.0380 - val_mae: 0.1545\n",
      "Epoch 78/100\n",
      "48/48 [==============================] - 0s 7ms/step - loss: 0.0389 - mse: 0.0389 - mae: 0.1574 - val_loss: 0.0401 - val_mse: 0.0401 - val_mae: 0.1596\n",
      "Epoch 79/100\n",
      "48/48 [==============================] - 0s 8ms/step - loss: 0.0390 - mse: 0.0390 - mae: 0.1584 - val_loss: 0.0384 - val_mse: 0.0384 - val_mae: 0.1563\n",
      "Epoch 80/100\n",
      "48/48 [==============================] - 0s 7ms/step - loss: 0.0392 - mse: 0.0392 - mae: 0.1586 - val_loss: 0.0383 - val_mse: 0.0383 - val_mae: 0.1555\n",
      "Epoch 81/100\n",
      "48/48 [==============================] - 0s 8ms/step - loss: 0.0388 - mse: 0.0388 - mae: 0.1577 - val_loss: 0.0401 - val_mse: 0.0401 - val_mae: 0.1596\n",
      "Epoch 82/100\n",
      "48/48 [==============================] - 0s 7ms/step - loss: 0.0395 - mse: 0.0395 - mae: 0.1593 - val_loss: 0.0381 - val_mse: 0.0381 - val_mae: 0.1555\n",
      "Epoch 83/100\n",
      "48/48 [==============================] - 0s 8ms/step - loss: 0.0389 - mse: 0.0389 - mae: 0.1580 - val_loss: 0.0393 - val_mse: 0.0393 - val_mae: 0.1589\n",
      "Epoch 84/100\n",
      "48/48 [==============================] - 0s 7ms/step - loss: 0.0400 - mse: 0.0400 - mae: 0.1607 - val_loss: 0.0381 - val_mse: 0.0381 - val_mae: 0.1543\n",
      "Epoch 85/100\n",
      "48/48 [==============================] - 0s 7ms/step - loss: 0.0395 - mse: 0.0395 - mae: 0.1583 - val_loss: 0.0379 - val_mse: 0.0379 - val_mae: 0.1538\n",
      "Epoch 86/100\n",
      "48/48 [==============================] - 0s 8ms/step - loss: 0.0388 - mse: 0.0388 - mae: 0.1581 - val_loss: 0.0401 - val_mse: 0.0401 - val_mae: 0.1592\n",
      "Epoch 87/100\n",
      "48/48 [==============================] - 0s 7ms/step - loss: 0.0396 - mse: 0.0396 - mae: 0.1591 - val_loss: 0.0382 - val_mse: 0.0382 - val_mae: 0.1555\n",
      "Epoch 88/100\n",
      "48/48 [==============================] - 0s 7ms/step - loss: 0.0387 - mse: 0.0387 - mae: 0.1574 - val_loss: 0.0381 - val_mse: 0.0381 - val_mae: 0.1553\n",
      "Epoch 89/100\n",
      "48/48 [==============================] - 0s 7ms/step - loss: 0.0387 - mse: 0.0387 - mae: 0.1575 - val_loss: 0.0382 - val_mse: 0.0382 - val_mae: 0.1550\n",
      "Epoch 90/100\n",
      "48/48 [==============================] - 0s 8ms/step - loss: 0.0387 - mse: 0.0387 - mae: 0.1570 - val_loss: 0.0379 - val_mse: 0.0379 - val_mae: 0.1546\n",
      "Epoch 91/100\n",
      "48/48 [==============================] - 0s 6ms/step - loss: 0.0389 - mse: 0.0389 - mae: 0.1579 - val_loss: 0.0403 - val_mse: 0.0403 - val_mae: 0.1599\n",
      "Epoch 92/100\n",
      "48/48 [==============================] - 0s 6ms/step - loss: 0.0393 - mse: 0.0393 - mae: 0.1590 - val_loss: 0.0378 - val_mse: 0.0378 - val_mae: 0.1542\n",
      "Epoch 93/100\n",
      "48/48 [==============================] - 0s 7ms/step - loss: 0.0386 - mse: 0.0386 - mae: 0.1572 - val_loss: 0.0385 - val_mse: 0.0385 - val_mae: 0.1572\n",
      "Epoch 94/100\n",
      "48/48 [==============================] - 0s 7ms/step - loss: 0.0398 - mse: 0.0398 - mae: 0.1604 - val_loss: 0.0379 - val_mse: 0.0379 - val_mae: 0.1545\n",
      "Epoch 95/100\n",
      "48/48 [==============================] - 0s 8ms/step - loss: 0.0386 - mse: 0.0386 - mae: 0.1574 - val_loss: 0.0379 - val_mse: 0.0379 - val_mae: 0.1542\n",
      "Epoch 96/100\n",
      "48/48 [==============================] - 0s 7ms/step - loss: 0.0386 - mse: 0.0386 - mae: 0.1573 - val_loss: 0.0380 - val_mse: 0.0380 - val_mae: 0.1547\n",
      "Epoch 97/100\n",
      "48/48 [==============================] - 0s 7ms/step - loss: 0.0395 - mse: 0.0395 - mae: 0.1581 - val_loss: 0.0378 - val_mse: 0.0378 - val_mae: 0.1534\n",
      "Epoch 98/100\n",
      "48/48 [==============================] - 0s 8ms/step - loss: 0.0387 - mse: 0.0387 - mae: 0.1576 - val_loss: 0.0380 - val_mse: 0.0380 - val_mae: 0.1542\n",
      "Epoch 99/100\n",
      "48/48 [==============================] - 0s 10ms/step - loss: 0.0394 - mse: 0.0394 - mae: 0.1591 - val_loss: 0.0382 - val_mse: 0.0382 - val_mae: 0.1543\n",
      "Epoch 100/100\n",
      "48/48 [==============================] - 0s 7ms/step - loss: 0.0387 - mse: 0.0387 - mae: 0.1575 - val_loss: 0.0377 - val_mse: 0.0377 - val_mae: 0.1539\n"
     ]
    }
   ],
   "source": [
    "model1 = Sequential()\n",
    "model1.add(Dense(4, input_dim=3, kernel_initializer='normal', activation='relu'))\n",
    "model1.add(Dense(2106,kernel_initializer='normal', activation='relu'))\n",
    "model1.add(Dense(1, activation='linear'))\n",
    "# Compile model\n",
    "model1.compile(loss='mean_squared_error', optimizer='adam', metrics=['mse','mae'])\n",
    "# Fit the model\n",
    "hist1 = model1.fit(xtrain_scale, ytrain_scale, validation_split=0.33, epochs=100, batch_size=150)\n"
   ]
  },
  {
   "cell_type": "markdown",
   "id": "87d7c073",
   "metadata": {},
   "source": [
    "## Model Evaluation"
   ]
  },
  {
   "cell_type": "code",
   "execution_count": null,
   "id": "84405c04",
   "metadata": {},
   "outputs": [],
   "source": [
    "y_predict = model1.predict(xtest_scale)\n",
    "\n",
    "print(hist1.history.keys())"
   ]
  },
  {
   "cell_type": "code",
   "execution_count": 28,
   "id": "6e8bc3ae",
   "metadata": {},
   "outputs": [
    {
     "data": {
      "text/html": [
       "<div>\n",
       "<style scoped>\n",
       "    .dataframe tbody tr th:only-of-type {\n",
       "        vertical-align: middle;\n",
       "    }\n",
       "\n",
       "    .dataframe tbody tr th {\n",
       "        vertical-align: top;\n",
       "    }\n",
       "\n",
       "    .dataframe thead th {\n",
       "        text-align: right;\n",
       "    }\n",
       "</style>\n",
       "<table border=\"1\" class=\"dataframe\">\n",
       "  <thead>\n",
       "    <tr style=\"text-align: right;\">\n",
       "      <th></th>\n",
       "      <th>loss</th>\n",
       "      <th>mse</th>\n",
       "      <th>mae</th>\n",
       "      <th>val_loss</th>\n",
       "      <th>val_mse</th>\n",
       "      <th>val_mae</th>\n",
       "      <th>epoch</th>\n",
       "    </tr>\n",
       "  </thead>\n",
       "  <tbody>\n",
       "    <tr>\n",
       "      <th>95</th>\n",
       "      <td>0.038646</td>\n",
       "      <td>0.038646</td>\n",
       "      <td>0.157273</td>\n",
       "      <td>0.038002</td>\n",
       "      <td>0.038002</td>\n",
       "      <td>0.154706</td>\n",
       "      <td>95</td>\n",
       "    </tr>\n",
       "    <tr>\n",
       "      <th>96</th>\n",
       "      <td>0.039455</td>\n",
       "      <td>0.039455</td>\n",
       "      <td>0.158080</td>\n",
       "      <td>0.037823</td>\n",
       "      <td>0.037823</td>\n",
       "      <td>0.153403</td>\n",
       "      <td>96</td>\n",
       "    </tr>\n",
       "    <tr>\n",
       "      <th>97</th>\n",
       "      <td>0.038704</td>\n",
       "      <td>0.038704</td>\n",
       "      <td>0.157613</td>\n",
       "      <td>0.038044</td>\n",
       "      <td>0.038044</td>\n",
       "      <td>0.154180</td>\n",
       "      <td>97</td>\n",
       "    </tr>\n",
       "    <tr>\n",
       "      <th>98</th>\n",
       "      <td>0.039422</td>\n",
       "      <td>0.039422</td>\n",
       "      <td>0.159098</td>\n",
       "      <td>0.038233</td>\n",
       "      <td>0.038233</td>\n",
       "      <td>0.154286</td>\n",
       "      <td>98</td>\n",
       "    </tr>\n",
       "    <tr>\n",
       "      <th>99</th>\n",
       "      <td>0.038728</td>\n",
       "      <td>0.038728</td>\n",
       "      <td>0.157453</td>\n",
       "      <td>0.037729</td>\n",
       "      <td>0.037729</td>\n",
       "      <td>0.153918</td>\n",
       "      <td>99</td>\n",
       "    </tr>\n",
       "  </tbody>\n",
       "</table>\n",
       "</div>"
      ],
      "text/plain": [
       "        loss       mse       mae  val_loss   val_mse   val_mae  epoch\n",
       "95  0.038646  0.038646  0.157273  0.038002  0.038002  0.154706     95\n",
       "96  0.039455  0.039455  0.158080  0.037823  0.037823  0.153403     96\n",
       "97  0.038704  0.038704  0.157613  0.038044  0.038044  0.154180     97\n",
       "98  0.039422  0.039422  0.159098  0.038233  0.038233  0.154286     98\n",
       "99  0.038728  0.038728  0.157453  0.037729  0.037729  0.153918     99"
      ]
     },
     "execution_count": 28,
     "metadata": {},
     "output_type": "execute_result"
    }
   ],
   "source": [
    "hist1_df = pd.DataFrame(hist1.history)\n",
    "hist1_df[\"epoch\"]=hist1.epoch\n",
    "hist1_df.tail()"
   ]
  },
  {
   "cell_type": "markdown",
   "id": "b865202c",
   "metadata": {},
   "source": [
    "## Visualize "
   ]
  },
  {
   "cell_type": "code",
   "execution_count": 29,
   "id": "4a196a9a",
   "metadata": {},
   "outputs": [
    {
     "data": {
      "image/png": "[encoded data removed]",
      "text/plain": [
       "<Figure size 432x288 with 1 Axes>"
      ]
     },
     "metadata": {},
     "output_type": "display_data"
    }
   ],
   "source": [
    "\n",
    "sns.set(rc={'figure.figsize':(6,4)})\n",
    "\n",
    "plt.plot(hist1.history['loss'])\n",
    "plt.plot(hist1.history['val_loss'])\n",
    "plt.title('model1 loss')\n",
    "plt.ylabel('loss')\n",
    "plt.xlabel('epoch')\n",
    "plt.legend(['train', 'test'], loc='upper left')\n",
    "plt.show()"
   ]
  },
  {
   "cell_type": "code",
   "execution_count": 30,
   "id": "b8850957",
   "metadata": {},
   "outputs": [
    {
     "data": {
      "image/png": "[encoded data removed]",
      "text/plain": [
       "<Figure size 432x288 with 1 Axes>"
      ]
     },
     "metadata": {},
     "output_type": "display_data"
    }
   ],
   "source": [
    "plt.plot(hist1.history['mse'])\n",
    "plt.plot(hist1.history['val_mse'])\n",
    "plt.title('model1 mse')\n",
    "plt.ylabel('mse')\n",
    "plt.xlabel('epoch')\n",
    "plt.legend(['train', 'test'], loc='upper left')\n",
    "plt.show()"
   ]
  },
  {
   "cell_type": "code",
   "execution_count": null,
   "id": "9ce8d653",
   "metadata": {},
   "outputs": [],
   "source": []
  }
 ],
 "metadata": {
  "kernelspec": {
   "display_name": "Python 3 (ipykernel)",
   "language": "python",
   "name": "python3"
  },
  "language_info": {
   "codemirror_mode": {
    "name": "ipython",
    "version": 3
   },
   "file_extension": ".py",
   "mimetype": "text/x-python",
   "name": "python",
   "nbconvert_exporter": "python",
   "pygments_lexer": "ipython3",
   "version": "3.9.12"
  }
 },
 "nbformat": 4,
 "nbformat_minor": 5
}
